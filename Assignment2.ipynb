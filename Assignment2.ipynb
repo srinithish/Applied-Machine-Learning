{
 "cells": [
  {
   "cell_type": "markdown",
   "metadata": {
    "colab_type": "text",
    "id": "R--G1S4LFVR9"
   },
   "source": [
    "<center>\n",
    "#CSCI-P556: Applied Machine Learning\n",
    "#Fall 2018\n",
    "#Assignment #2\n",
    "</center>\n",
    "---\n",
    "\n"
   ]
  },
  {
   "cell_type": "markdown",
   "metadata": {
    "colab_type": "text",
    "id": "Ooye3d-VGooZ"
   },
   "source": [
    "## Problem 1 (50 points)\n",
    "\n",
    "In this problem you will be working with Bank Marketing Dataset. We encourage your to look at the description and make yourself comfortable with it: https://archive.ics.uci.edu/ml/datasets/bank+marketing\n",
    "\n",
    "Two pairs of training and validation sets have been drawn from this dataset for you to work with, namely: \n",
    " -  `train_1.csv` and `valid_1.csv`\n",
    " -  `train_2.csv`and `valid_2.csv`\n",
    " \n",
    "Finally, we have also provided a `test.csv` which is common for both settings.\n",
    "\n",
    "### Task 0: (3 points)\n",
    "\n",
    "What is the difference between the two sets of train/validation sets? Write your answer here:\n",
    "\n",
    "### Ans:  \n",
    "The number of observations differ in each of the data sets \n",
    "while train1 has 6769 observations , train2 has 28934 observations\n",
    "while valid1 has 1694 observations, valid2 has 7235 observations\n",
    "\n",
    "The target variable is balanced in train1 , has 3385 'yes' and 3385 'no'\n",
    "\n",
    "The target variable is imbalanced in train2 , has 3385 'yes' and 25549 'no' \n",
    "\n",
    "The target variable is balanced in valid1 , has 846 'yes' and 846 'no'\n",
    "\n",
    "The target variable is imbalanced in valid2 , has 846 'yes' and 6388 'no'\n",
    "\n",
    "\n"
   ]
  },
  {
   "cell_type": "markdown",
   "metadata": {
    "colab_type": "text",
    "id": "MFKZT4mhJlSK"
   },
   "source": [
    "### Task 1 (Data Preprocessing) (12 points)\n",
    "\n",
    "Before you can train a machine learning model using this dataset, you will have to run a number of preprocessing steps to transform the data into a form which will be acceptable to the model. In this task, you are supposed to carry out the follow steps:\n",
    "\n",
    "1.  Find all features that have continuous numeric values and normalize them in the same way as you did in Assignment 1. List those features here.\n",
    "2. Find all categorical features and process them as was discussed in class. List those features and explain what you did.\n",
    "3. Are there any features which have missing values? (Hint: Missing values aren't always nicely represented and can be misleading sometimes). Find those features and explain how you will handle them.\n",
    "\n"
   ]
  },
  {
   "cell_type": "markdown",
   "metadata": {
    "colab_type": "text",
    "id": "uLoZ67_hPo9I"
   },
   "source": [
    "Write your text-based answers here.\n",
    "\n",
    "\n",
    "1.   Answer for bullet one\n",
    "<br> The following are continuous features : `age`, `balance`, `duration`, `campaign`, `pdays`, `previous`\n",
    "2.   Answer for bullet two\n",
    "<br> The follwing are categorical features: `job`, `marital`, `education`, `default`, `housing`, `loan`, `contact`, `day`, `month`, `poutcome`\n",
    "3.   Answer for bullet three\n",
    "<br> The unknown levels in `day` and `education` , I have treated them as missing values, I have first converted to NA's and then have replaced in those features with the mode of the feature. In the variable `poutcome` , I have treated the unknown level as another category itself as there are 75-80 % of unknowns in both sets\n",
    "<br> In the continous variable `pdays` -1 is treated as missing and since the % of -1s in the data is more than 70% I have dropped the column\n"
   ]
  },
  {
   "cell_type": "code",
   "execution_count": 1,
   "metadata": {
    "colab": {},
    "colab_type": "code",
    "id": "-kxn7ZjCJpJ2"
   },
   "outputs": [],
   "source": [
    "import pandas as pd\n",
    "import numpy as np\n",
    "import scipy as sp\n",
    "import sklearn\n",
    "import os \n",
    "import seaborn as sb\n",
    "import matplotlib.pyplot as plt\n",
    "import matplotlib.cm as cm\n",
    "os.chdir(\"C:/Users/ntihish/Documents/IUB/AML/Assignment 2\")\n",
    "# PROBLEM 1, TASK 1 CODE GOES HERE\n",
    "\n",
    "\n",
    "# BankMarketing_train_1.info\n",
    "# BankMarketing_train_1.shape\n",
    "# BankMarketing_train_1.head()\n",
    "# AllColumns = BankMarketing_train_1.columns.tolist()\n",
    "\n",
    "#get uniques in columns\n",
    "# for columns in AllColumns: \n",
    "#     print(columns, len(BankMarketing_train_1[columns].unique()))\n",
    "#     print(columns, BankMarketing_train_1[columns].unique())\n",
    "\n",
    "#transofrming all objet dtypes to categorical\n",
    "def changeDtypes(df,from_dtype,to_dtype):\n",
    "    #changes inplace, affects the passed dataFrame\n",
    "    df[df.select_dtypes(from_dtype).columns] = df.select_dtypes(from_dtype).astype(to_dtype)\n",
    "\n",
    "##normalising \n",
    "def normaliseContinousVars(df):\n",
    "    continuousVariables = df.select_dtypes('int64').columns.tolist() + df.select_dtypes('float64').columns.tolist()\n",
    "    df[continuousVariables] = df[continuousVariables].apply(lambda x : (x-x.mean())/x.std() , axis=1)\n",
    "\n",
    "\n",
    "##getting variables that have missing values\n",
    "# print(BankMarketing_train_1.columns[BankMarketing_train_1.isna().any()])\n",
    "\n",
    "\n",
    "##recalculate the levels in all categorical variables befor one hot encoding\n",
    "def dropUnusedCategories(df):\n",
    "    categoricalVariables = df.select_dtypes('category').columns.tolist()\n",
    "    for columns in categoricalVariables:\n",
    "        df[columns] = df[columns].cat.remove_unused_categories()\n",
    "\n",
    "\n",
    "\n",
    "##fill nas with mode of the catrgorical data for continoue replacae by median or by knn imputaion\n",
    "# BankMarketing_train_1.info()\n",
    "def fill_Mode_Median(df):\n",
    "    continuousVariables = df.select_dtypes('int64').columns.tolist() + df.select_dtypes('float64').columns.tolist()\n",
    "    categoricalVariables = df.select_dtypes('category').columns.tolist()\n",
    "    df[continuousVariables] = df[continuousVariables].fillna(df[continuousVariables].median())\n",
    "    df[categoricalVariables] = df[categoricalVariables].fillna(df[categoricalVariables].mode().iloc[0])#mode could have multiple values\n",
    "\n",
    "\n",
    "\n",
    "\n",
    "##write a data pipleline functions\n",
    "def pipelineFunc(df):\n",
    "    changeDtypes(df,'object','category')\n",
    "    \n",
    "    #special hanling for day can be omiited or added for anotyher data set\n",
    "#     df['day'] = df['day'].astype('category')\n",
    "    \n",
    "    #reduce number of levels in day's by binning\n",
    "    #binning days \n",
    "#     df['day'] = df['day']//4\n",
    "    \n",
    "    df['day'] = df['day'].astype('category')\n",
    "    normaliseContinousVars(df)\n",
    "    df = df.drop(columns=['pdays'])\n",
    "    \n",
    "    #replacing unknows by NA's where the unknowns do not form more that 5-10% of the data.\n",
    "    \n",
    "    df[['education','job']]= df[['education','job']].replace('unknown' , np.nan)\n",
    "    \n",
    "    \n",
    "    #adjusting categories as unknown was considered as category\n",
    "    dropUnusedCategories(df)\n",
    "    \n",
    "    ##making a copy to avoid warnings \n",
    "    ##splittnig Predictors and Target variables\n",
    "    df_X = df.iloc[:,:-1].copy()\n",
    "    \n",
    "    df_Y = df.iloc[:,[-1]].copy()\n",
    "    \n",
    "    ##fill median for continous and mode for categorical\n",
    "    fill_Mode_Median(df_X)\n",
    "    \n",
    "    ##listing cateorical variables\n",
    "    categoricalVariables = df_X.select_dtypes('category').columns.tolist()\n",
    "    continuousVariables = df.select_dtypes('int64').columns.tolist() + df.select_dtypes('float64').columns.tolist()\n",
    "#     print(\"the follwing are the categorical variables : \", categoricalVariables)\n",
    "#     print(\"the follwing are the caontinous variables : \", continuousVariables)\n",
    "    \n",
    "    ##one hot encoding\n",
    "    df_X = pd.get_dummies(df_X,drop_first= True)\n",
    "    \n",
    "    #target varibale conversion to levels\n",
    "    yesNoMapping = {'yes': 1 ,'no' : 0}\n",
    "    df_Y['y'] = df_Y['y'].map(yesNoMapping)\n",
    "    \n",
    "    return df_X , df_Y\n",
    "\n",
    "BankMarketing_train_1 = pd.read_csv(\"train_1.csv\")\n",
    "BankMarketing_train_2 = pd.read_csv(\"train_2.csv\")\n",
    "BankMarketing_valid_1 = pd.read_csv(\"valid_1.csv\")\n",
    "BankMarketing_valid_2 = pd.read_csv(\"valid_2.csv\")\n",
    "BankMarketing_test = pd.read_csv(\"test.csv\")\n",
    "BankMarketing_train_1_X ,BankMarketing_train_1_Y = pipelineFunc(BankMarketing_train_1)\n",
    "BankMarketing_train_2_X ,BankMarketing_train_2_Y = pipelineFunc(BankMarketing_train_2)\n",
    "BankMarketing_valid_1_X ,BankMarketing_valid_1_Y = pipelineFunc(BankMarketing_valid_1)\n",
    "BankMarketing_valid_2_X ,BankMarketing_valid_2_Y = pipelineFunc(BankMarketing_valid_2)\n",
    "BankMarketing_test_X,BankMarketing_test_Y = pipelineFunc(BankMarketing_test)\n",
    "\n",
    "\n"
   ]
  },
  {
   "cell_type": "code",
   "execution_count": 2,
   "metadata": {},
   "outputs": [
    {
     "data": {
      "text/plain": [
       "<matplotlib.axes._subplots.AxesSubplot at 0x143540a0208>"
      ]
     },
     "execution_count": 2,
     "metadata": {},
     "output_type": "execute_result"
    },
    {
     "data": {
      "image/png": "[encoded data removed]",
      "text/plain": [
       "<Figure size 432x288 with 2 Axes>"
      ]
     },
     "metadata": {},
     "output_type": "display_data"
    }
   ],
   "source": [
    "BankMarketing_train_1_Orig = pd.read_csv(\"train_2.csv\")\n",
    "\n",
    "# BankMarketing_train_1_Orig[['education','job']]= BankMarketing_train_1_Orig[['education','job']].replace('unknown' , np.nan)\n",
    "sb.heatmap(BankMarketing_train_1_Orig == 'unknown')"
   ]
  },
  {
   "cell_type": "markdown",
   "metadata": {
    "colab_type": "text",
    "id": "5EaChdKLJjio"
   },
   "source": [
    "### Task 2 (Model $\\mathcal{A}$) (10 points)\n",
    "\n",
    "Train a logistic regression model with $L_2$ regularization on `train_1.csv` after applying the necessary preprocessing steps of Task 1. Use the validation set `valid_1.csv` to choose the best regularization coefficient $\\lambda$. Plot a curve with regularization coefficient in the X axis and the validation accuracy on the Y axis."
   ]
  },
  {
   "cell_type": "code",
   "execution_count": 3,
   "metadata": {
    "colab": {},
    "colab_type": "code",
    "id": "aQGJ10L-KhZh",
    "scrolled": true
   },
   "outputs": [
    {
     "name": "stdout",
     "output_type": "stream",
     "text": [
      "lamda optimal  is : 0.1\n"
     ]
    },
    {
     "data": {
      "text/html": [
       "<div>\n",
       "<style scoped>\n",
       "    .dataframe tbody tr th:only-of-type {\n",
       "        vertical-align: middle;\n",
       "    }\n",
       "\n",
       "    .dataframe tbody tr th {\n",
       "        vertical-align: top;\n",
       "    }\n",
       "\n",
       "    .dataframe thead th {\n",
       "        text-align: right;\n",
       "    }\n",
       "</style>\n",
       "<table border=\"1\" class=\"dataframe\">\n",
       "  <thead>\n",
       "    <tr style=\"text-align: right;\">\n",
       "      <th></th>\n",
       "      <th>TrainAccuracyAtOptimalLam</th>\n",
       "      <th>ValidAccuracyAtOptimalLam</th>\n",
       "      <th>TestAccuracyAtOptimalLam</th>\n",
       "    </tr>\n",
       "  </thead>\n",
       "  <tbody>\n",
       "    <tr>\n",
       "      <th>0</th>\n",
       "      <td>0.810903</td>\n",
       "      <td>0.804489</td>\n",
       "      <td>0.80648</td>\n",
       "    </tr>\n",
       "  </tbody>\n",
       "</table>\n",
       "</div>"
      ],
      "text/plain": [
       "   TrainAccuracyAtOptimalLam  ValidAccuracyAtOptimalLam  \\\n",
       "0                   0.810903                   0.804489   \n",
       "\n",
       "   TestAccuracyAtOptimalLam  \n",
       "0                   0.80648  "
      ]
     },
     "execution_count": 3,
     "metadata": {},
     "output_type": "execute_result"
    },
    {
     "data": {
      "image/png": "[encoded data removed]",
      "text/plain": [
       "<Figure size 432x288 with 1 Axes>"
      ]
     },
     "metadata": {},
     "output_type": "display_data"
    }
   ],
   "source": [
    "# PROBLEM 1, TASK 2 CODE GOES HERE\n",
    " \n",
    "import sklearn.linear_model\n",
    "\n",
    "lamdas = [0.1 ,0.2,0.3,0.5,0.6,0.7,0.8,0.9, 1,5,10,100]\n",
    "# smaller the value more the regularisation\n",
    "invLam = [1/i for i in lamdas]\n",
    "\n",
    "accu_Valid = []\n",
    "accu_Train = []\n",
    "accu_Test = []\n",
    "for lam in invLam:\n",
    "    logi = sklearn.linear_model.LogisticRegression(penalty= 'l2', C = lam)\n",
    "    logi.fit(BankMarketing_train_1_X,BankMarketing_train_1_Y['y'])\n",
    "    accu_Train.append(logi.score(BankMarketing_train_1_X,BankMarketing_train_1_Y['y']))\n",
    "    accu_Valid.append(logi.score(BankMarketing_valid_1_X,BankMarketing_valid_1_Y['y']))\n",
    "    accu_Test.append(logi.score(BankMarketing_test_X,BankMarketing_test_Y['y']))\n",
    "    \n",
    "\n",
    "plt.plot(lamdas,accu_Valid,color = 'green',label = \"Validation Accuracy\")\n",
    "# plt.plot(lamdas,accu_Train,color = 'red', label = \"Training Accuracy\")\n",
    "plt.legend()\n",
    "# oplimalLambda = lamdas[np.where(abs(np.subtract(accu_Train,accu_Valid)) ==  abs(np.subtract(accu_Train,accu_Valid)).min())[0][0]]\n",
    "\n",
    "\n",
    "TestAccuracyAtOptimalLam = accu_Test[accu_Valid.index(max(accu_Valid))]\n",
    "TrainAccuracyAtOptimalLam = accu_Train[accu_Valid.index(max(accu_Valid))]\n",
    "ValidAccuracyAtOptimalLam = accu_Valid[accu_Valid.index(max(accu_Valid))]\n",
    "oplimalLambda = lamdas[accu_Valid.index(max(accu_Valid))]\n",
    "plt.xlabel(\"Lamda\")\n",
    "plt.ylabel(\"Accuracy\")\n",
    "print(\"lamda optimal  is :\",oplimalLambda)\n",
    "pd.DataFrame({'TrainAccuracyAtOptimalLam':[TrainAccuracyAtOptimalLam],\n",
    "              'ValidAccuracyAtOptimalLam':[ValidAccuracyAtOptimalLam],\n",
    "              'TestAccuracyAtOptimalLam':[TestAccuracyAtOptimalLam],\n",
    "             })"
   ]
  },
  {
   "cell_type": "markdown",
   "metadata": {
    "colab_type": "text",
    "id": "c0UEYv92KnvQ"
   },
   "source": [
    "### Task 3 (Model $\\mathcal{B}$) (5 points)\n",
    "Train a logistic regression model with $L_2$ regularization on `train_2.csv` after applying the necessary preprocessing steps of Task 1. Use the validation set `valid_2.csv` to choose the best regularization coefficient $\\lambda$. Plot a curve with regularization coefficient in the X axis and the validation accuracy on the Y axis."
   ]
  },
  {
   "cell_type": "code",
   "execution_count": 4,
   "metadata": {
    "colab": {},
    "colab_type": "code",
    "id": "izeiBcCTLcM4"
   },
   "outputs": [
    {
     "name": "stdout",
     "output_type": "stream",
     "text": [
      "lamda optimal  is : 1\n"
     ]
    },
    {
     "data": {
      "text/html": [
       "<div>\n",
       "<style scoped>\n",
       "    .dataframe tbody tr th:only-of-type {\n",
       "        vertical-align: middle;\n",
       "    }\n",
       "\n",
       "    .dataframe tbody tr th {\n",
       "        vertical-align: top;\n",
       "    }\n",
       "\n",
       "    .dataframe thead th {\n",
       "        text-align: right;\n",
       "    }\n",
       "</style>\n",
       "<table border=\"1\" class=\"dataframe\">\n",
       "  <thead>\n",
       "    <tr style=\"text-align: right;\">\n",
       "      <th></th>\n",
       "      <th>TrainAccuracyAtOptimalLam</th>\n",
       "      <th>ValidAccuracyAtOptimalLam</th>\n",
       "      <th>TestAccuracyAtOptimalLam</th>\n",
       "    </tr>\n",
       "  </thead>\n",
       "  <tbody>\n",
       "    <tr>\n",
       "      <th>0</th>\n",
       "      <td>0.897249</td>\n",
       "      <td>0.899502</td>\n",
       "      <td>0.89749</td>\n",
       "    </tr>\n",
       "  </tbody>\n",
       "</table>\n",
       "</div>"
      ],
      "text/plain": [
       "   TrainAccuracyAtOptimalLam  ValidAccuracyAtOptimalLam  \\\n",
       "0                   0.897249                   0.899502   \n",
       "\n",
       "   TestAccuracyAtOptimalLam  \n",
       "0                   0.89749  "
      ]
     },
     "execution_count": 4,
     "metadata": {},
     "output_type": "execute_result"
    },
    {
     "data": {
      "image/png": "[encoded data removed]",
      "text/plain": [
       "<Figure size 432x288 with 1 Axes>"
      ]
     },
     "metadata": {},
     "output_type": "display_data"
    }
   ],
   "source": [
    "# PROBLEM 1, TASK 3 CODE GOES HERE\n",
    "\n",
    "lamdas = [0.1 ,0.2,0.3,0.5,0.6,0.7,0.8,0.9, 1,5,10,100,1000]  # smaller the value more the regularisation\n",
    "invLam = [1/i for i in lamdas]\n",
    "accu_Valid = []\n",
    "accu_Train = []\n",
    "accu_Test = []\n",
    "for lam in invLam:\n",
    "    logi = sklearn.linear_model.LogisticRegression(penalty= 'l2', C = lam)\n",
    "    logi.fit(BankMarketing_train_2_X,BankMarketing_train_2_Y['y'])\n",
    "    accu_Train.append(logi.score(BankMarketing_train_2_X,BankMarketing_train_2_Y['y']))\n",
    "    accu_Valid.append(logi.score(BankMarketing_valid_2_X,BankMarketing_valid_2_Y['y']))\n",
    "    accu_Test.append(logi.score(BankMarketing_test_X,BankMarketing_test_Y['y']))\n",
    "plt.plot(lamdas,accu_Valid,color = 'green',label = \"Validation Accuracy\")\n",
    "# plt.plot(lamdas,accu_Train,color = 'red', label = \"Training Accuracy\")\n",
    "plt.legend()\n",
    "plt.xlabel(\"Lamda\")\n",
    "plt.ylabel(\"Accuracy\")\n",
    "pctChange = abs(np.subtract(accu_Valid,accu_Train)/np.array(accu_Train))\n",
    "\n",
    "TestAccuracyAtOptimalLam = accu_Test[accu_Valid.index(max(accu_Valid))]\n",
    "TrainAccuracyAtOptimalLam = accu_Train[accu_Valid.index(max(accu_Valid))]\n",
    "ValidAccuracyAtOptimalLam = accu_Valid[accu_Valid.index(max(accu_Valid))]\n",
    "oplimalLambda = lamdas[accu_Valid.index(max(accu_Valid))]\n",
    "\n",
    "\n",
    "print(\"lamda optimal  is :\",oplimalLambda)\n",
    "pd.DataFrame({'TrainAccuracyAtOptimalLam':[TrainAccuracyAtOptimalLam],\n",
    "              'ValidAccuracyAtOptimalLam':[ValidAccuracyAtOptimalLam],\n",
    "              'TestAccuracyAtOptimalLam':[TestAccuracyAtOptimalLam],\n",
    "             })"
   ]
  },
  {
   "cell_type": "markdown",
   "metadata": {
    "colab_type": "text",
    "id": "8KzsVhHPLd3P"
   },
   "source": [
    "### Task 4 (Model $\\mathcal{C}$) (10 points)\n",
    "\n",
    "As you have seen in class, due to the specific (and smart) choice of the loss function, a logistic regression classifier happens to predict the posterioir probability $p(y|\\mathbf{x})$ for any given sample. It then classifies the samples with $p(y|\\mathbf{x}) > 0.5$ as belonging to class $1$ and the rest as belonging to class $0$. Instead, for a fixed threshold of $0.5$, let us consider a dynamic threshold of $\\theta$ which can be chosen after a model has been trained.\n",
    "\n",
    "$$\n",
    "\\ y=\n",
    "\\begin{cases}\n",
    "1 \\text{ if } p(y|\\mathbf{x}) \\geq \\theta \\\\\n",
    "\\\\\n",
    "0 \\text{ if } p(y|\\mathbf{x}) < \\theta \\\\\n",
    "\\end{cases}\n",
    "$$\n",
    "\n",
    "for $0 \\leq \\theta \\leq 1$.\n",
    "\n",
    "Train a logistic regression model with $L_2$ regularization on `train_2.csv` after applying the necessary preprocessing steps of Task 1. Use the validation set `valid_2.csv` to choose the best combination of regularization coefficient $\\lambda$ and the threshold $\\theta$. The best coefficients has to be selected by you after trying out at least five, non-consecutive values. Visualize all these runs.\n",
    "\n",
    "**Hint**: Look at the documentation of Logistic Regression in sci-kit learn to come up with a plan to implement this."
   ]
  },
  {
   "cell_type": "code",
   "execution_count": 5,
   "metadata": {
    "colab": {},
    "colab_type": "code",
    "id": "zJRVTjjrSTRm",
    "scrolled": true
   },
   "outputs": [
    {
     "data": {
      "text/html": [
       "<div>\n",
       "<style scoped>\n",
       "    .dataframe tbody tr th:only-of-type {\n",
       "        vertical-align: middle;\n",
       "    }\n",
       "\n",
       "    .dataframe tbody tr th {\n",
       "        vertical-align: top;\n",
       "    }\n",
       "\n",
       "    .dataframe thead th {\n",
       "        text-align: right;\n",
       "    }\n",
       "</style>\n",
       "<table border=\"1\" class=\"dataframe\">\n",
       "  <thead>\n",
       "    <tr style=\"text-align: right;\">\n",
       "      <th></th>\n",
       "      <th>Lamda</th>\n",
       "      <th>Theta</th>\n",
       "      <th>TrainAccuracy</th>\n",
       "      <th>ValidationAccuracy</th>\n",
       "      <th>TestAccuracy</th>\n",
       "      <th>AccuracyDiff</th>\n",
       "    </tr>\n",
       "  </thead>\n",
       "  <tbody>\n",
       "    <tr>\n",
       "      <th>34</th>\n",
       "      <td>1.0</td>\n",
       "      <td>0.4</td>\n",
       "      <td>0.896938</td>\n",
       "      <td>0.900746</td>\n",
       "      <td>0.896052</td>\n",
       "      <td>0.003809</td>\n",
       "    </tr>\n",
       "  </tbody>\n",
       "</table>\n",
       "</div>"
      ],
      "text/plain": [
       "    Lamda  Theta  TrainAccuracy  ValidationAccuracy  TestAccuracy  \\\n",
       "34    1.0    0.4       0.896938            0.900746      0.896052   \n",
       "\n",
       "    AccuracyDiff  \n",
       "34      0.003809  "
      ]
     },
     "execution_count": 5,
     "metadata": {},
     "output_type": "execute_result"
    },
    {
     "data": {
      "image/png": "[encoded data removed]",
      "text/plain": [
       "<Figure size 432x288 with 1 Axes>"
      ]
     },
     "metadata": {},
     "output_type": "display_data"
    }
   ],
   "source": [
    "# PROBLEM 1, TASK 4 CODE GOES HERE\n",
    "\n",
    "from sklearn.metrics import accuracy_score\n",
    "lamdas = [0.1 ,0.2,0.3,1,10,100,500,1000] # smaller the value more the regularisation\n",
    "invLam = [1/i for i in lamdas] # smaller the value more the regularisation\n",
    "Threshold = [i*0.1  for  i in range(0,10,1)]\n",
    "\n",
    "LamdaThreshAccu = {'Lamda':[],'Theta':[],'TrainAccuracy':[],'ValidationAccuracy':[],'TestAccuracy':[],'AccuracyDiff': []}\n",
    "\n",
    "colors = cm.rainbow(np.linspace(0, 1, len(lamdas)))\n",
    "for eachLamda,color in zip(invLam,colors):\n",
    "    listOfAccuracy = []\n",
    "    logi = sklearn.linear_model.LogisticRegression(penalty= 'l2', C = eachLamda)\n",
    "    for diffThreshs in Threshold:\n",
    "        \n",
    "        logi.fit(BankMarketing_train_2_X,BankMarketing_train_2_Y['y'])\n",
    "        logi.classes_ # 0,1\n",
    "        \n",
    "        ##train accuracy\n",
    "        Y_train_pred = logi.predict_proba(BankMarketing_train_2_X)[:,1] >= diffThreshs\n",
    "        Y_train_pred = Y_train_pred.astype(int)\n",
    "        \n",
    "        trainAccuracy = accuracy_score(BankMarketing_train_2_Y['y'],Y_train_pred) \n",
    "        \n",
    "        ##valid Accuracy\n",
    "        Y_valid_pred = logi.predict_proba(BankMarketing_valid_2_X)[:,1] >= diffThreshs\n",
    "        Y_valid_pred = Y_valid_pred.astype(int)\n",
    "        \n",
    "        validationAccuracy = accuracy_score(BankMarketing_valid_2_Y['y'],Y_valid_pred)\n",
    "        \n",
    "        ##test Accuracy\n",
    "        Y_test_pred = logi.predict_proba(BankMarketing_test_X)[:,1] >= diffThreshs\n",
    "        Y_test_pred = Y_test_pred.astype(int)\n",
    "        \n",
    "        TestAccuracy = accuracy_score(BankMarketing_test_Y['y'],Y_test_pred)\n",
    "        \n",
    "        \n",
    "        \n",
    "        \n",
    "        ##collecting data of all runs\n",
    "        listOfAccuracy.append(trainAccuracy)\n",
    "        ##can make it more readable ## TO DO\n",
    "        LamdaThreshAccu['Lamda'].append(1/eachLamda)\n",
    "        LamdaThreshAccu['Theta'].append(diffThreshs)\n",
    "        LamdaThreshAccu['TrainAccuracy'].append(trainAccuracy)\n",
    "        LamdaThreshAccu['ValidationAccuracy'].append(validationAccuracy)\n",
    "        LamdaThreshAccu['TestAccuracy'].append(TestAccuracy)\n",
    "        LamdaThreshAccu['AccuracyDiff'].append(abs(validationAccuracy-trainAccuracy))\n",
    "        \n",
    "        \n",
    "        \n",
    "#         tp,fn,fp,tn = sklearn.metrics.confusion_matrix(BankMarketing_valid_2_Y['y'],Y_pred,labels = [1,0]).ravel()\n",
    "#         # np.unique(Y_pred,return_counts=True)\n",
    "#         accuracy = (tp+tn)/Y_pred.size\n",
    "        \n",
    "#         .append(accuracy)\n",
    "    ##plot for each lamda the effct of threshold change\n",
    "    plt.plot(Threshold,listOfAccuracy,color = color,label = (\"lamda : \" + str(1/eachLamda)))\n",
    "\n",
    "plt.xlabel(\"theta\")\n",
    "plt.ylabel(\"Accuracy\")\n",
    "plt.legend()\n",
    "plt.show\n",
    "LamdaThreshAccuDf = pd.DataFrame(LamdaThreshAccu)\n",
    "##best lamda and thresh combinations\n",
    "# LamdaThreshAccuDf[(LamdaThreshAccuDf['AccuracyDiff']/LamdaThreshAccuDf['TrainAccuracy'])\n",
    "#                   ==(LamdaThreshAccuDf['AccuracyDiff']/LamdaThreshAccuDf['TrainAccuracy']).min()]\n",
    "\n",
    "maxValAccu = LamdaThreshAccuDf[LamdaThreshAccuDf['ValidationAccuracy']==LamdaThreshAccuDf['ValidationAccuracy'].max()]\n",
    "\n",
    "maxValAccu[maxValAccu['AccuracyDiff']==maxValAccu['AccuracyDiff'].min()]"
   ]
  },
  {
   "cell_type": "markdown",
   "metadata": {
    "colab_type": "text",
    "id": "cTa2tMCPQmCV"
   },
   "source": [
    "### Task 5 (Report and Conclusion) (10 points)\n",
    "\n",
    "1.  Give a detailed report on the performance (that is, accuracy) of Models $\\mathcal{A}$, $\\mathcal{B}$ and $\\mathcal{C}$ on the respective training sets, the validation sets and finally the test. Explain any intuition you might have on what might be happening in each of the cases. Please avoid writing unnecessary details which are not pertinent.\n",
    "2.  Do you think accuracy, the metric which you have used to find the best hyperparameter in all the above tasks, a good metric in this scenario? Explain your choice.\n",
    "#### Answers :\n",
    "\n",
    "**1.**\n",
    "<br> Models $\\mathcal{A}$ :  at the optimal lambda 0.1 , Train Accuracy is 0.810903, Validation Accuracy :0.804489, Test Accuracy:\t0.80648:  \n",
    "<br> Model $\\mathcal{B}$ :at the optimal lambda 1 , Train Accuracy is 0.897249, Validation Accuracy :0.899502, Test Accuracy:\t0.89749 : \n",
    "<br> Model $\\mathcal{C}$ :at the optimal lambda 1 and theta 0.4 , Train Accuracy is 0.896938, Validation Accuracy :0.900746, Test Accuracy:\t0.896052\n",
    "\n",
    "<br> In the model A since it used a training set of small data, the accuracy was lesser since it did not have enough examples to train on.The lambda for maximising the validation accuracy was 0.1\n",
    "<br> In the Model B since it had a larger training set , the accuracy was higher. The best regularisation parameter for maximisng validation accuracy turns out to be 1\n",
    "<br> For Model C  by finding the best lambda and  theta (threshhold) it turns out that the best threshhold is 0.4 and lambda is 1. Validation accuracy improves slightly. \n",
    "\n",
    "\n",
    "**2.**\n",
    "Yes I think the accuracy , i.e validation accuracy is a good measure to  tune the hyper parameter. Since the validation data is unseen to the model. Tuning the model basing the validation accuracy is a good measure"
   ]
  },
  {
   "cell_type": "markdown",
   "metadata": {
    "colab_type": "text",
    "id": "3b62zDpk-O8v"
   },
   "source": [
    "## Problem 2 (50 points)\n",
    "\n",
    "Consider a regression problem in which the input variable $x$ has only one feature and the target variable $y$ is generated from the input variable $x$ by a polynomial $f(x)$. The function $f$ is such that $$f(x) = \\sum_{i=0}^d w_ix^i$$ Please note that a given polynomial function can be completely described by the vector of coefficients $\\mathbf{w}$.\n",
    "\n",
    "### Task 1 (5 points)\n",
    "\n",
    "Write a function in python which can take the degree of polynomial function as input. The code to generate vector coefficeints $\\mathbf{w}$ using this input is already provided. Plot the resulting function for $x \\in (-low, high)$. The function should be plot "
   ]
  },
  {
   "cell_type": "code",
   "execution_count": 6,
   "metadata": {
    "colab": {},
    "colab_type": "code",
    "id": "ivzCo28P_SFW"
   },
   "outputs": [
    {
     "data": {
      "image/png": "[encoded data removed]",
      "text/plain": [
       "<Figure size 432x288 with 1 Axes>"
      ]
     },
     "metadata": {},
     "output_type": "display_data"
    }
   ],
   "source": [
    "import numpy as np\n",
    "from scipy.special import legendre\n",
    "\n",
    "def get_coefficients(degree):\n",
    "    \"\"\"\n",
    "    The coefficients returned are in the order w_0, w_1, ... , w_{degree}\n",
    "    \"\"\"\n",
    "    return legendre(degree).coefficients[::-1] ##returning from the end \n",
    "\n",
    "def visualize_function(degree, low, high):\n",
    "    w = get_coefficients(degree)\n",
    "    X_Orig = np.linspace(low, high, int((high-low)/0.01))\n",
    "    X = np.array([X_Orig]*(degree+1)).T\n",
    "    powers = np.array([i for i in range(degree+1)])\n",
    "    X = np.power(X,powers)\n",
    "    y = w.dot(X.T)\n",
    "    \n",
    "    \n",
    "    plt.plot(X_Orig,y,color = 'blue',label = \"funtions\")\n",
    "    \n",
    "\n",
    "## TEST CASES (The following lines should plot a function)\n",
    "# visualize_function(2, -1, 1)\n",
    "# visualize_function(4, -1, 1)\n",
    "visualize_function(6, -1, 1)"
   ]
  },
  {
   "cell_type": "markdown",
   "metadata": {
    "colab_type": "text",
    "id": "z8Mm1YGNBH5u"
   },
   "source": [
    "### Task 2 (5 points)\n",
    "\n",
    "Write a function in python that randomly generates a dataset (training data + test data). The function should take the degree of target polynomial as input along with the number of points that should be generated for both the training and the test sets. The polynomial will be represented by the vector of coefficients. The code to calculate these coefficients has been provided. The function should also add random normal noise to the target -- i.e. the noise should be drawn from a normal distribution with mean $\\mu=0$ and standard deviation = $\\sigma^2$. Thus: \n",
    "$$y=\\sum_{i=0}^d w_ix^i + \\mathcal{N}(0, \\sigma^2)$$\n",
    "\n"
   ]
  },
  {
   "cell_type": "code",
   "execution_count": 7,
   "metadata": {
    "colab": {},
    "colab_type": "code",
    "id": "ZZ1zxLPvCyDt"
   },
   "outputs": [],
   "source": [
    "from sklearn.model_selection import train_test_split\n",
    "import random\n",
    "def generate_dataset(degree, n_train, n_test, sigma):\n",
    "    \"\"\"\n",
    "    - n_train - Number of training samples\n",
    "    - n_test - Number of test samples\n",
    "    - X_train is an array of size (n_train $\\times$ 1)\n",
    "    - y_train is an array of size (n_train $\\times$ 1)\n",
    "    - X_test is an array of size (n_test $\\times$ 1)\n",
    "    - y_test is an array of size (n_test $\\times$ 1)\n",
    "    \"\"\"\n",
    "    \n",
    "    random.seed(56)\n",
    "    np.random.seed(56)\n",
    "    w = get_coefficients(degree)\n",
    "    X_Orig = np.random.uniform(-1,1, n_train+n_test)\n",
    "    X = np.array([X_Orig]*(degree+1)).T #generating all powers of X and transposing has [[x,x,x,x],[x,x,x,x]]\n",
    "    powers = np.array([i for i in range(degree+1)])\n",
    "    X = np.power(X,powers)#has [1,x,x^2,....]\n",
    "    y = w.dot(X.T)+ np.random.normal(0,sigma,X_Orig.size)\n",
    "    trainIndices = random.sample(range(X_Orig.size),n_train)\n",
    "#     print(X_Orig)\n",
    "#     print(y)\n",
    "    X_train = X_Orig[trainIndices]\n",
    "    y_train = y[trainIndices]\n",
    "    X_test = np.delete(X_Orig, trainIndices)\n",
    "    y_test =  np.delete(y, trainIndices)\n",
    "    \n",
    "    \n",
    "    return X_train, y_train, X_test, y_test\n",
    "\n",
    "# generate_dataset(2,2,2,0.2)\n"
   ]
  },
  {
   "cell_type": "markdown",
   "metadata": {
    "colab_type": "text",
    "id": "et9gTUzy_Sn9"
   },
   "source": [
    "### Task 3 (20 points)\n",
    "\n",
    "1.   Use the function written in Task 2 to generate a dataset of degree $10$, with $20$ samples each in the training and test sets. The standard deviation of the noise should be $0.2$.\n",
    "2.   Plot the generated points of the train set over the function. Make use the function you wrote in Task 1 to do so. The resultant plot should not only contain the function in blue color but also the generated points in the train set in red color.\n",
    "3.   Fit two linear regressions models: $\\mathcal{A}$ and $\\mathcal{B}$ on the given training data. Model $\\mathcal{A}$ should be quadratic and Model $\\mathcal{B}$ should be of degree $10$. How would you create such models?\n",
    "4. Calculate the training error and testing error on both these models and report them nicely in a table.\n",
    "5. Explain the results:\n",
    " - Are the results as expected or surprising? Explain your stance.\n",
    " - Give a detailed explanation of why this happens.\n",
    "\n",
    "\n",
    " **Hint**: You are free (in fact encouraged) to design new experiments under the same paradigm to understand what is happening. You can buttress your explanation with any plots which you might generate from such new experiments.\n",
    "\n",
    " \n",
    "Note: _There is no preference over the size of the answer but please note that you shouldn't write anything that is not pertinent. While being terse, your answer should clearly convey the intuition. Also, use logical number code/text cells---i.e. every subquestion in a given task which can be considered a logical unit should be present in one cell. Do not make one cell unnecessarily long by putting multiple answers in it or split a given answer over multiple cells. Use your best judgement.\n",
    "\n",
    "### Answers: \n",
    "3. I have first generated a matrix of x raised to different powers using PolynomialFeatures(degree).fit_transform() method and then fed it to linear regressor. \n",
    "5. The results are infact surprising because, though we are fitting the exact 10 degree polynomial function from which the data is generated, the test error for degree 10 is high. This is because of the noise, the model with 10 degree polynomial overfits the data with noise and is too specific to the variations due to insignificant noise. Hence would result in high testing error since its unseen data. However  for degree 2 polynomial model since it  doesnot fit all the points exactly and not much affected with noise.This would mean that in test it performs comparable to the training and % change is not as high as deg 10.\n",
    "\n",
    "<br> Basically, the bias for deg2 polynomial model was more but variance was less and bias is less for deg10 polynomial model and variance is high.\n",
    "\n",
    "<br> Please refer the table before task4 question to support that the change in train to test errors is higher for a higher degree polynomial."
   ]
  },
  {
   "cell_type": "code",
   "execution_count": 8,
   "metadata": {},
   "outputs": [
    {
     "data": {
      "text/plain": [
       "Text(0,0.5,'Y')"
      ]
     },
     "execution_count": 8,
     "metadata": {},
     "output_type": "execute_result"
    },
    {
     "data": {
      "image/png": "[encoded data removed]",
      "text/plain": [
       "<Figure size 432x288 with 1 Axes>"
      ]
     },
     "metadata": {},
     "output_type": "display_data"
    }
   ],
   "source": [
    "\n",
    "###Task 3.1,3.2\n",
    "\n",
    "##generating data set with 10 degrees\n",
    "X_train, y_train, X_test, y_test = generate_dataset(10,20,20,0.2)\n",
    "\n",
    "#plot points\n",
    "plt.plot(X_train,y_train,'rx')\n",
    "\n",
    "#plot functions\n",
    "visualize_function(10, -1, 1)\n",
    "plt.xlabel(\"X\")\n",
    "plt.ylabel(\"Y\")\n",
    "\n"
   ]
  },
  {
   "cell_type": "code",
   "execution_count": 9,
   "metadata": {},
   "outputs": [
    {
     "name": "stdout",
     "output_type": "stream",
     "text": [
      "The test and train errors for the dataset generated from degree 10 polynomial with noise when fit with degree 2 and degree 10 polynomial is as below \n"
     ]
    },
    {
     "data": {
      "text/html": [
       "<div>\n",
       "<style scoped>\n",
       "    .dataframe tbody tr th:only-of-type {\n",
       "        vertical-align: middle;\n",
       "    }\n",
       "\n",
       "    .dataframe tbody tr th {\n",
       "        vertical-align: top;\n",
       "    }\n",
       "\n",
       "    .dataframe thead th {\n",
       "        text-align: right;\n",
       "    }\n",
       "</style>\n",
       "<table border=\"1\" class=\"dataframe\">\n",
       "  <thead>\n",
       "    <tr style=\"text-align: right;\">\n",
       "      <th></th>\n",
       "      <th>train Error</th>\n",
       "      <th>test Error</th>\n",
       "    </tr>\n",
       "  </thead>\n",
       "  <tbody>\n",
       "    <tr>\n",
       "      <th>deg 2</th>\n",
       "      <td>0.085086</td>\n",
       "      <td>0.090719</td>\n",
       "    </tr>\n",
       "    <tr>\n",
       "      <th>deg 10</th>\n",
       "      <td>0.028364</td>\n",
       "      <td>0.061074</td>\n",
       "    </tr>\n",
       "  </tbody>\n",
       "</table>\n",
       "</div>"
      ],
      "text/plain": [
       "        train Error  test Error\n",
       "deg 2      0.085086    0.090719\n",
       "deg 10     0.028364    0.061074"
      ]
     },
     "execution_count": 9,
     "metadata": {},
     "output_type": "execute_result"
    }
   ],
   "source": [
    "#Task 3.3,3.4\n",
    "\n",
    "import sklearn.preprocessing\n",
    "def getTrainTestErros(degree,X_train, y_train, X_test, y_test):\n",
    "    \n",
    "    Linear = sklearn.linear_model.LinearRegression()\n",
    "\n",
    "    polyGen = sklearn.preprocessing.PolynomialFeatures(degree) \n",
    "\n",
    "    X_train_transform = polyGen.fit_transform(X_train.reshape(-1, 1))##generating [1,x^2,x^3,...]\n",
    "    X_test_transform = polyGen.fit_transform(X_test.reshape(-1, 1))##generating [1,x^2,x^3,...]\n",
    "\n",
    "    ##fitting polynommial regression\n",
    "    Linear.fit(X_train_transform,y_train) \n",
    "\n",
    "\n",
    "    y_train_pred = Linear.predict(X_train_transform)\n",
    "    trainError = (((y_train - y_train_pred) ** 2).sum())/ y_train.size\n",
    "    trainAccuracy = Linear.score(X_train_transform,y_train)\n",
    "#     print(trainAccuracy)\n",
    "#     print(\"Mean train Error is :\",((y_train - y_train_pred) ** 2).sum() / y_train.size)\n",
    "\n",
    "\n",
    "\n",
    "    y_test_pred = Linear.predict(X_test_transform)\n",
    "    testError = (((y_test - y_test_pred) ** 2).sum())/ y_test.size\n",
    "    testAccuracy = Linear.score(X_test_transform,y_test)\n",
    "#     print(testAccuracy)\n",
    "#     print(\"Mean test Error is :\",((y_test - y_test_pred) ** 2).sum() / y_test.size)\n",
    "    return trainError, testError ,trainAccuracy,testAccuracy\n",
    "\n",
    "\n",
    "\n",
    "#####getting errors for 10 and 2 degree\n",
    "X_train, y_train, X_test, y_test = generate_dataset(10,20,20,0.2)\n",
    "deg2TrainError,deg2TestError, deg2TrainAccuracy,deg2TestAccuracy = getTrainTestErros(2,X_train, y_train, X_test, y_test)\n",
    "deg10TrainError,deg10TestError,deg10TrainAccuracy, deg10TestAccuracy = getTrainTestErros(10,X_train, y_train, X_test, y_test)\n",
    "\n",
    "pctChangeDeg2 = (deg2TestError-deg2TrainError)/deg2TrainError\n",
    "pctChangeDeg10 = (deg10TrainError-deg10TestError)/deg10TrainError\n",
    "\n",
    "print(\"The test and train errors for the dataset generated from degree 10 polynomial with noise when fit with degree 2 and degree 10 polynomial is as below \")\n",
    "Table = pd.DataFrame({'train Error':[deg2TrainError,deg10TrainError],'test Error':[deg2TestError,deg10TestError]},index = ['deg 2','deg 10'])\n",
    "Table\n",
    "# (Table[\"test\"] - Table['train'])/Table['train']\n",
    "# Table = pd.DataFrame({'train accuracy':[deg2TrainAccuracy,deg10TrainAccuracy],'test accuracy':[deg2TestAccuracy,deg10TestAccuracy]},index = ['deg 2','deg 10'])\n",
    "# Table\n"
   ]
  },
  {
   "cell_type": "code",
   "execution_count": 10,
   "metadata": {},
   "outputs": [
    {
     "name": "stdout",
     "output_type": "stream",
     "text": [
      "Please observe that the pct change in errors from train to test is higher in higher degree polynomial\n"
     ]
    },
    {
     "data": {
      "text/html": [
       "<div>\n",
       "<style scoped>\n",
       "    .dataframe tbody tr th:only-of-type {\n",
       "        vertical-align: middle;\n",
       "    }\n",
       "\n",
       "    .dataframe tbody tr th {\n",
       "        vertical-align: top;\n",
       "    }\n",
       "\n",
       "    .dataframe thead th {\n",
       "        text-align: right;\n",
       "    }\n",
       "</style>\n",
       "<table border=\"1\" class=\"dataframe\">\n",
       "  <thead>\n",
       "    <tr style=\"text-align: right;\">\n",
       "      <th></th>\n",
       "      <th>degrees</th>\n",
       "      <th>train error</th>\n",
       "      <th>test error</th>\n",
       "      <th>percentatge Change</th>\n",
       "    </tr>\n",
       "  </thead>\n",
       "  <tbody>\n",
       "    <tr>\n",
       "      <th>0</th>\n",
       "      <td>2</td>\n",
       "      <td>0.085086</td>\n",
       "      <td>0.090719</td>\n",
       "      <td>0.066210</td>\n",
       "    </tr>\n",
       "    <tr>\n",
       "      <th>1</th>\n",
       "      <td>3</td>\n",
       "      <td>0.082106</td>\n",
       "      <td>0.101061</td>\n",
       "      <td>0.230861</td>\n",
       "    </tr>\n",
       "    <tr>\n",
       "      <th>2</th>\n",
       "      <td>4</td>\n",
       "      <td>0.082106</td>\n",
       "      <td>0.101061</td>\n",
       "      <td>0.230863</td>\n",
       "    </tr>\n",
       "    <tr>\n",
       "      <th>3</th>\n",
       "      <td>5</td>\n",
       "      <td>0.082013</td>\n",
       "      <td>0.100481</td>\n",
       "      <td>0.225189</td>\n",
       "    </tr>\n",
       "    <tr>\n",
       "      <th>4</th>\n",
       "      <td>6</td>\n",
       "      <td>0.059620</td>\n",
       "      <td>0.138590</td>\n",
       "      <td>1.324546</td>\n",
       "    </tr>\n",
       "    <tr>\n",
       "      <th>5</th>\n",
       "      <td>7</td>\n",
       "      <td>0.055886</td>\n",
       "      <td>0.128658</td>\n",
       "      <td>1.302160</td>\n",
       "    </tr>\n",
       "    <tr>\n",
       "      <th>6</th>\n",
       "      <td>8</td>\n",
       "      <td>0.053630</td>\n",
       "      <td>0.120937</td>\n",
       "      <td>1.254999</td>\n",
       "    </tr>\n",
       "    <tr>\n",
       "      <th>7</th>\n",
       "      <td>9</td>\n",
       "      <td>0.045932</td>\n",
       "      <td>0.146712</td>\n",
       "      <td>2.194089</td>\n",
       "    </tr>\n",
       "    <tr>\n",
       "      <th>8</th>\n",
       "      <td>10</td>\n",
       "      <td>0.028364</td>\n",
       "      <td>0.061074</td>\n",
       "      <td>1.153214</td>\n",
       "    </tr>\n",
       "  </tbody>\n",
       "</table>\n",
       "</div>"
      ],
      "text/plain": [
       "   degrees  train error  test error  percentatge Change\n",
       "0        2     0.085086    0.090719            0.066210\n",
       "1        3     0.082106    0.101061            0.230861\n",
       "2        4     0.082106    0.101061            0.230863\n",
       "3        5     0.082013    0.100481            0.225189\n",
       "4        6     0.059620    0.138590            1.324546\n",
       "5        7     0.055886    0.128658            1.302160\n",
       "6        8     0.053630    0.120937            1.254999\n",
       "7        9     0.045932    0.146712            2.194089\n",
       "8       10     0.028364    0.061074            1.153214"
      ]
     },
     "execution_count": 10,
     "metadata": {},
     "output_type": "execute_result"
    }
   ],
   "source": [
    "degTrainErrorList = []\n",
    "degTestErrorList = []\n",
    "ErrorChangeList = []\n",
    "degreeList = [i for i in range(2,11,1)]\n",
    "\n",
    "for degree in degreeList:\n",
    "    degTrainError,degTestError, degTrainAccuracy,degTestAccuracy = getTrainTestErros(degree,X_train, y_train, X_test, y_test)\n",
    "    degTrainErrorList.append(degTrainError)\n",
    "    degTestErrorList.append(degTestError)\n",
    "    ErrorChangeList.append((degTestError-degTrainError)/degTrainError)\n",
    "    \n",
    "print(\"Please observe that the pct change in errors from train to test is higher in higher degree polynomial\")\n",
    "Table = pd.DataFrame({'degrees' : degreeList,\n",
    "                      'train error':degTrainErrorList,\n",
    "                      'test error':degTestErrorList,\n",
    "                      'percentatge Change' : ErrorChangeList}\n",
    "                     )\n",
    "Table"
   ]
  },
  {
   "attachments": {
    "download.png": {
     "image/png": "[encoded data removed]"
    }
   },
   "cell_type": "markdown",
   "metadata": {
    "colab_type": "text",
    "id": "APUqEUWUGmXo"
   },
   "source": [
    "### Task 4 (20 points)\n",
    "\n",
    "1.  Use the function written in Task 2 to generate a dataset of degree 45, with 20 samples each in the training and test sets. There should be no noise in the samples.\n",
    "2.  Repeat steps 2 to 4 from Task 3 for this dataset.\n",
    "3.  This target doesn't have noise like the previous one. Does this make the result surprising? Explain your stance. Also give a detailed explanation of why this happens.\n",
    "\n",
    "### Answers:\n",
    "1. Since there is no noise in the data and was generated from a 45 degree polynomial, it can be seen that the model with higher degree polynomial would always perform better both in test and train and the closer the degree of the polynomial to the '45' , the lesser the error would turn out in both test and train. \n",
    "<br> Howeever the error in test  would start to increase as the degree of the polynomial crosses the 45 since the polynomial starts to overfit the data and end up performing bad on the test data.\n",
    "The same can be seen in the below graph. The Test error starts to raise after the dip till 45 degree polynomial and train error continues to reduce(the code for the same and dynamic graph is in the cell after the Task 4.)\n",
    "But the variation of the error from the training to test is always lesser for a lower complex model.\n",
    "\n",
    "![download.png](attachment:download.png)\n",
    "<br>**Hint**: You are free (in fact encouraged) to design new experiements under the same paradigm to understand what is happening. You can buttress your explanation with any plots which you might generate from such new experiments."
   ]
  },
  {
   "cell_type": "code",
   "execution_count": 11,
   "metadata": {},
   "outputs": [
    {
     "data": {
      "text/html": [
       "<div>\n",
       "<style scoped>\n",
       "    .dataframe tbody tr th:only-of-type {\n",
       "        vertical-align: middle;\n",
       "    }\n",
       "\n",
       "    .dataframe tbody tr th {\n",
       "        vertical-align: top;\n",
       "    }\n",
       "\n",
       "    .dataframe thead th {\n",
       "        text-align: right;\n",
       "    }\n",
       "</style>\n",
       "<table border=\"1\" class=\"dataframe\">\n",
       "  <thead>\n",
       "    <tr style=\"text-align: right;\">\n",
       "      <th></th>\n",
       "      <th>train error</th>\n",
       "      <th>test error</th>\n",
       "    </tr>\n",
       "  </thead>\n",
       "  <tbody>\n",
       "    <tr>\n",
       "      <th>deg 2</th>\n",
       "      <td>1.234738e+08</td>\n",
       "      <td>3.707142e+07</td>\n",
       "    </tr>\n",
       "    <tr>\n",
       "      <th>deg 10</th>\n",
       "      <td>3.566454e+04</td>\n",
       "      <td>6.696736e+06</td>\n",
       "    </tr>\n",
       "  </tbody>\n",
       "</table>\n",
       "</div>"
      ],
      "text/plain": [
       "         train error    test error\n",
       "deg 2   1.234738e+08  3.707142e+07\n",
       "deg 10  3.566454e+04  6.696736e+06"
      ]
     },
     "execution_count": 11,
     "metadata": {},
     "output_type": "execute_result"
    },
    {
     "data": {
      "image/png": "[encoded data removed]",
      "text/plain": [
       "<Figure size 432x288 with 1 Axes>"
      ]
     },
     "metadata": {},
     "output_type": "display_data"
    }
   ],
   "source": [
    "X_train, y_train, X_test, y_test = generate_dataset(45,20,20,0)\n",
    "plt.plot(X_train,y_train,'rx')\n",
    "visualize_function(45, -1, 1)\n",
    "plt.xlabel(\"X\")\n",
    "plt.ylabel(\"Y\")\n",
    "\n",
    "\n",
    "\n",
    "deg2TrainError,deg2TestError, deg2TrainAccuracy,deg2TestAccuracy = getTrainTestErros(2,X_train, y_train, X_test, y_test)\n",
    "deg10TrainError,deg10TestError,deg10TrainAccuracy, deg10TestAccuracy = getTrainTestErros(10,X_train, y_train, X_test, y_test)\n",
    "\n",
    "\n",
    "Table = pd.DataFrame({'train error':[deg2TrainError,deg10TrainError],\n",
    "                      'test error':[deg2TestError,deg10TestError]},\n",
    "                     index = ['deg 2','deg 10'])\n",
    "Table\n",
    "\n",
    "\n",
    "\n",
    "\n",
    "# Table = pd.DataFrame({'train accuracy':[deg2TrainAccuracy,deg10TrainAccuracy],'test accuracy':[deg2TestAccuracy,deg10TestAccuracy]},index = ['deg 2','deg 10'])\n",
    "# Table\n",
    "# (Table[\"test\"] - Table['train'])/Table['train']\n"
   ]
  },
  {
   "cell_type": "code",
   "execution_count": 12,
   "metadata": {},
   "outputs": [
    {
     "name": "stdout",
     "output_type": "stream",
     "text": [
      "The below plot is to to show the trend of the error change in test and train as the degree of the polynomial changes \n"
     ]
    },
    {
     "data": {
      "image/png": "[encoded data removed]",
      "text/plain": [
       "<Figure size 432x288 with 1 Axes>"
      ]
     },
     "metadata": {},
     "output_type": "display_data"
    }
   ],
   "source": [
    "\n",
    "\"\"\"\n",
    "The below plot is to to show the trend of the error change in test and train as the degree of the polynomial changes \n",
    "\"\"\"\n",
    "\n",
    "degTrainErrorList = []\n",
    "degTestErrorList = []\n",
    "\n",
    "degreeList = [i for i in range(2,100,4)]\n",
    "\n",
    "for degree in degreeList:\n",
    "    degTrainError,degTestError, degTrainAccuracy,degTestAccuracy = getTrainTestErros(degree,X_train, y_train, X_test, y_test)\n",
    "    degTrainErrorList.append(degTrainError)\n",
    "    degTestErrorList.append(degTestError)\n",
    "    \n",
    "\n",
    "\n",
    "\n",
    "print(\"The below plot is to to show the trend of the error change in test and train as the degree of the polynomial changes \")\n",
    "plt.plot(degreeList,degTrainErrorList,'b', label = \"Train error\")\n",
    "plt.plot(degreeList,degTestErrorList,'r', label = \"Test error\")\n",
    "\n",
    "plt.xlabel(\"degree of the polynomial\")\n",
    "plt.ylabel(\"error\")\n",
    "plt.legend()\n",
    "plt.show()\n",
    "# deg2TrainErrorList"
   ]
  }
 ],
 "metadata": {
  "colab": {
   "collapsed_sections": [],
   "name": "Assignment2.ipynb",
   "provenance": [],
   "version": "0.3.2"
  },
  "kernelspec": {
   "display_name": "Python 3",
   "language": "python",
   "name": "python3"
  },
  "language_info": {
   "codemirror_mode": {
    "name": "ipython",
    "version": 3
   },
   "file_extension": ".py",
   "mimetype": "text/x-python",
   "name": "python",
   "nbconvert_exporter": "python",
   "pygments_lexer": "ipython3",
   "version": "3.6.5"
  }
 },
 "nbformat": 4,
 "nbformat_minor": 1
}
