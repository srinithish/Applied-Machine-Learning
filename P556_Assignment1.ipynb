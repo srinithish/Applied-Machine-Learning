{
 "cells": [
  {
   "cell_type": "markdown",
   "metadata": {
    "colab_type": "text",
    "id": "Wqg21c05IrtK"
   },
   "source": [
    "# CSCI-P556\n",
    "## Assignment 1\n",
    "### Due date: 5:30PM, September 26, 2018\n",
    "\n",
    "\n",
    "---\n",
    "\n"
   ]
  },
  {
   "cell_type": "markdown",
   "metadata": {
    "colab_type": "text",
    "id": "qoac1eEaDJPA"
   },
   "source": [
    "## Question 1: Binary Classification (35 points)\n",
    "\n",
    "Consider the binary classification problem of mapping a given input to two classes. Let $\\mathcal{X}=\\mathbb{R}^d$ and $\\mathcal{Y}=\\{+1, -1\\}$ be the input space and output space, respectively. In simple words, it means that the input has $d$ features and all of them are real valued, whereas the output can only take values $-1$ or $+1$. This is one of the most common problems in machine learning and many sophisticated methods exist to solve it. In the question, we will solve it using the concepts we have already learned in class. Like we did in linear regression, let us assume the two sets of points can be separated using a straight line i.e. the samples are linearly separable. So if $d=2$, one should be able to draw a line to distinguish between the two classes. All points lying on side of the line should belong to a particular class (say $1$) and the points lying on the other side should belong to another class (say $2$). To see what this would look like,  your first task is as follows:\n",
    "\n",
    "### Task 1\n",
    "Write a function that will randomly generate a dataset for this problem. Your function should randomly choose a line $l$, which can be denoted as $ax + by + c = 0$. According to basic high school geometry, the line divides the plane into two sides. On one side, $ax+by+c>0$ while on the other $ax+by+c<0$. Use this fact to randomly generate $k_0$ points on the side of class 0 and $k_1$ points on the side of class 1. Use the function you wrote in the previous assignment to plot this dataset!"
   ]
  },
  {
   "cell_type": "code",
   "execution_count": 1,
   "metadata": {
    "colab": {},
    "colab_type": "code",
    "id": "jJK-_b2dNKwl"
   },
   "outputs": [],
   "source": [
    "import numpy as np\n",
    "import matplotlib.pyplot as plt\n",
    "import time\n",
    "\n",
    "def plotLineAndPoints(l1, l2,*args):\n",
    "    ### Your code goes here\n",
    "    x1 = [coords[0] for coords in l1]\n",
    "    y1 = [coords[1] for coords in l1]\n",
    "    x2 = [coords[0] for coords in l2]\n",
    "    y2 = [coords[1] for coords in l2]\n",
    "    generatedX = x1+x2\n",
    "    plt.plot(x1,y1,'r+',label = \"Points in Class 0 i.e y = -1\")\n",
    "    plt.plot(x2,y2,'bo',label = \"Points in Class 1 i.e y = 1\")\n",
    "    if len(args) != 0 and len(args[0]) == 3:\n",
    "        \n",
    "        a = args[0][0]\n",
    "        b = args[0][1]\n",
    "        c = args[0][2]\n",
    "        generatedY = [(-c-a*i)/b for i in x1+x2]\n",
    "        #print(generatedY)\n",
    "        labelStr = \"line : \"+str(int(a))+\"x+\"+str(int(b))+\"y+\"+str(int(c))+\" = 0\"\n",
    "        plt.plot(x1+x2,generatedY,color = 'green',label = labelStr)\n",
    "        plt.title(\"Points in class 0 , points in class1 and Line\")\n",
    "    else: \n",
    "        plt.title(\"Points\")\n",
    "    plt.xlabel(\"X1\")\n",
    "    plt.ylabel(\"X2\")\n",
    "    plt.legend()\n",
    "## Sample Test Cases (We will have many more)\n",
    "#plotLineAndPoints([(1, 2), (2, 4)], [(3, 4), (4, 5)],(-1,2,2))\n",
    "\n",
    "\n",
    "def generate_dataset(k0, k1):\n",
    "    \"\"\"\n",
    "    Your code for generating the dataset goes here! The output should X and y.\n",
    "    You should call the visualization function from this function. Every time we \n",
    "    run this cell, it should plot a new dataset along with the line which was used\n",
    "    to generate that dataset. We will test this by changing the values of k and\n",
    "    running the cell multiple times\n",
    "    \"\"\"\n",
    "    # choose random a b c values chaneg limit here\n",
    "    lowerLimit = -100\n",
    "    higherLimtit = 100\n",
    "    \n",
    "    a = np.random.uniform(lowerLimit,higherLimtit)\n",
    "    b = np.random.uniform(lowerLimit,higherLimtit)\n",
    "    c = np.random.uniform(lowerLimit,higherLimtit)\n",
    "    x1 = np.random.uniform(lowerLimit,higherLimtit,k0)\n",
    "    x2 = np.random.uniform(lowerLimit,higherLimtit,k1)\n",
    "    \n",
    "    #for class 1 point y > (c-ax)/b thaat implies add radom +ve number to (c-ax)/b and same for class 2\n",
    "    y1 = (c - a*x1)/b + np.random.uniform(20,higherLimtit,k0)\n",
    "    y2 = (c - a*x2)/b - np.random.uniform(20,higherLimtit,k1)\n",
    "    \n",
    "    pointsx1y1AsCords = [(x,y) for x,y in zip(x1,y1)]\n",
    "    pointsx2y2AsCords = [(x,y) for x,y in zip(x2,y2)]\n",
    "    plotLineAndPoints(pointsx1y1AsCords,pointsx2y2AsCords,(a,b,c))\n",
    "    YClasses  = [1 if i < k1 else -1 for i in range(k0+k1) ]\n",
    "    return np.column_stack((np.append(x1,x2),np.append(y1,y2))), YClasses\n",
    "\n",
    "\n",
    "X,y = generate_dataset(100, 100)\n"
   ]
  },
  {
   "cell_type": "markdown",
   "metadata": {
    "colab_type": "text",
    "id": "M9u1MV7ANqWV"
   },
   "source": [
    "### Task 2\n",
    "\n",
    "When you are given a dataset for which you do not have access the the target function $f$ which maps $\\mathcal{X}$ to $\\mathcal{Y}$. You learn it from the data. In this problem, it is akin to learning the parameters of the line that separates the two classes. The same line above can be represented as $$\\sum_{i=0}^d w_i x_i = 0$$\n",
    "Notice that $i$ starts from $0$, instead of $1$. Can you think of why?\n",
    "\n",
    "The goal here is to correctly find out $\\bf{w}$. The algorithm to find it is a simple iterative process. \n",
    "1. Randomly choose a $w$ to begin with.\n",
    "2. Keep on adjusting the value of $\\bf{w}$ as follows until all data samples are correctly classified:\n",
    "3. Randomly choose a sample from the dataset and see if it is correctly classified. If yes,  move on to another sample.\n",
    "4. If not,  then  update the weights as $\\mathbf{w}^{t+1} = \\mathbf{w}^t + y \\cdot \\mathbf{x}$ , where \n",
    "    *   $\\mathbf{w}^{t+1}$ is value of $\\mathbf{w}$ at iteration $t+1$\n",
    "    *   $\\mathbf{w}^{t}$ is value of $\\mathbf{w}$ at iteration $t$\n",
    "    *  $y$ is the class label for the sample under consideration\n",
    "    * $\\mathbf{x}$ is the data-point under consideration\n",
    "    \n",
    "    \n",
    "Write a function that implements this learning algorithm. The input to the function is going to be a dataset represented by the input variable $X$ and the target variable $y$. The output of the function should be the chosen $\\mathbf{w}$.\n",
    "\n",
    "#### Answer :\n",
    "$i$ starts from 0 as we need to update the costant value (intercept) as well apart from the coefficients.\n",
    "\n"
   ]
  },
  {
   "cell_type": "code",
   "execution_count": 2,
   "metadata": {
    "colab": {},
    "colab_type": "code",
    "id": "-IQCxqfcbN2i"
   },
   "outputs": [
    {
     "name": "stdout",
     "output_type": "stream",
     "text": [
      "Thetas are :  [  262.36515593 -1713.69845471   225.2139077 ]\n"
     ]
    },
    {
     "data": {
      "image/png": "[encoded data removed]",
      "text/plain": [
       "<Figure size 432x288 with 1 Axes>"
      ]
     },
     "metadata": {},
     "output_type": "display_data"
    }
   ],
   "source": [
    "\"\"\"\n",
    "#please note that X to be passed as the points only, without the column with 1s in the beginning as I am preparing it inside the function \n",
    "\n",
    "\"\"\"\n",
    "\n",
    "def fit(X, y):\n",
    "    \"\"\"\n",
    "    Your code for Task 2 goes here. Apart from writing the fit function,\n",
    "    you should also write code to not plot the points in the dataset,\n",
    "    but also plot the learned line represented by w. We will test this, by running \n",
    "    the cell for task 1 (thus generating a new dataset) and then running this cell.\n",
    "    Even though the visualization of done for d=3 and 2-D points, your code should be\n",
    "    generic and be able to handle any d. This will also be tested.\n",
    "    \"\"\"\n",
    "    # let X be an array of X1 and X2 columns \n",
    "    # W be the theta vector\n",
    "    \n",
    "    #now x is my data set\n",
    "    d = X.shape[1]+1 # numer of dimensions + 1 for X0\n",
    "    W = np.array(np.random.uniform(0,1000,d))\n",
    "\n",
    "    ones = np.array([1 for i in range(X.shape[0])])\n",
    "#     print(W)\n",
    "    preparedX = np.column_stack((ones,X))\n",
    "\n",
    "    repeat = True\n",
    "    while(repeat):\n",
    "        countCorrectClass = 0\n",
    "        for x,yac in zip(preparedX,y):\n",
    "            if (W.dot(x) > 0 and yac == 1):\n",
    "#                 print(\"correctly classified\")\n",
    "                countCorrectClass +=1\n",
    "            elif(W.dot(x) < 0  and yac == -1):\n",
    "#                 print(\"correctly classified\")\n",
    "                countCorrectClass +=1\n",
    "            else:\n",
    "                W = W + yac*x\n",
    "#             print(\"Correctly classified count:\", countCorrectClass)\n",
    "\n",
    "            if (countCorrectClass == len(y)):\n",
    "#                 print(\"All of them clasified\")\n",
    "                repeat = False\n",
    "    \n",
    "    \n",
    "    if d == 3:\n",
    "        x1Points = [(X[i,0],X[i,1]) for i in range(X.shape[0]) if y[i] == 1] #class 1 points\n",
    "        x2Points = [(X[i,0],X[i,1]) for i in range(X.shape[0]) if y[i] == -1] #class 1 points\n",
    "        coeffOfLines = (W[1],W[2],W[0])\n",
    "        plotLineAndPoints(x1Points,x2Points,coeffOfLines)\n",
    "        \n",
    "    else:\n",
    "        print(\"Visualisation not possible but W generated\")\n",
    "    return W\n",
    "\n",
    "#change X and y here \n",
    "X = X #change new X here to test for higer d > 3\n",
    "y = y #change class accordingly\n",
    "\n",
    "W = fit(X,y)\n",
    "\n",
    "print(\"Thetas are : \",W)"
   ]
  },
  {
   "cell_type": "markdown",
   "metadata": {
    "colab_type": "text",
    "id": "SjnYiCSSb6oc"
   },
   "source": [
    "### Task 3\n",
    "Give an intuition of why the above algorithm converges for linearly separable data? We do not expect you to give a mathematic proof, but it would be great if you can provide one. You will get full points even if you just provide an intuition of a few lines. Including figures or mathematical equations is encouraged but not required.\n",
    "\n",
    "#### Answer:\n",
    " The algorithm works because the direction of the decrease and increase in the weights is decided by the $Y$(Class) and $X$ \n",
    " <br> Let $w_0X_0 + w_1X_1 + w_2X_2 = 0$ be the initial line that is chosen, \n",
    " <br> Now let at a chosen point $(x_1,x_2)$ the line value  $w_0 + w_1x_1 + w_2x_2$ be  $> 0$ and $y_{actual}$ at the point be $-1$\n",
    " <br> But to correctly classify the point, the line value at the point $(x_1,x_2)$ should have been < 0\n",
    " <br> This implies that ,\n",
    " <br> &nbsp;&nbsp;1) If $x_1$ is $-ve$ the corresponding weight should be increased to decrease the value of the line at the point &nbsp;so that the value of $w_0 + w_1x_1 + w_2x_2$ decreases and tends towards negative value i.e $<0$ and the line correctly classifies the point.Note that our agenda is to make the line give a value $<0$ since the class was $y= -1$. Hence $y\\times x_1$ i.e $-1 \\times x_1$ which turns out $+ve$ (since x is $-ve$) gives the direction of the change to be made to corresponding weight $w_1$ i.e add a value\n",
    " <br> &nbsp;&nbsp;2) If $x_1$ is $+ve$ the corresponding weight $w_1$ should be decreased to decrease the value of the line $w_0 + w_1x_1 + w_2x_2$ on overall. Hence $y\\times x_1$ i.e $-1 \\times x_1$ which turns out $-ve$ (since x is $+ve$) gives the direction of the change to be made to corresponding weight $w_1$ i.e subtract a value \n",
    "  <br> The same logic applies to other weights ($w_i$) as well\n",
    "#### <br> This Algorithm converges because  :\n",
    "<br> The direction of the changes (decrease or increase) in the weights happens to be decided systematically and each point doesnt disturb the previous change but rather helps in further changes to the weight in the correct direction. Hence for a linearly seperable data , it always converges"
   ]
  },
  {
   "cell_type": "markdown",
   "metadata": {
    "colab_type": "text",
    "id": "WKl58tcccl4U"
   },
   "source": [
    "### Task 4\n",
    "What happens when the data is not linearly separable? What can be done to salvage the situation?\n",
    "\n",
    "###### Answer:\n",
    "<br> We could apply transformations to the variables such that there exists a linearly sperable plane.In that case we would indirectly be solving for a non linear seperation boundary.\n",
    "<br> Suppose  ($x_1$ , $x_2$) are the points of two classes and are clustered and a circle exists to seperate the points in the two  classes.  we would be solving for $ax_1^2 + bx_2^2 + c > 0$ or $ax_1^2 + bx_2^2 + c < 0$, In that case applying transformation i.e $z_1 = x_1^2$ and $z_2 = x_2^2$, then we would be solving for $az_1+bz_2 + c < or > 0$ which is linear in $z_1 , z_2$ and could be solved by the above algorithm"
   ]
  },
  {
   "cell_type": "markdown",
   "metadata": {
    "colab_type": "text",
    "id": "A0_H35ditn1_"
   },
   "source": [
    "## Question 2: Linear Regression (40 points)\n",
    "\n",
    "There are two ways of solving the linear regression problem. The first one is called ordinary least squares, where you learn the parameters of the model by using the closed-form differentitaion of the standard cost function. This method cannot be used if there is no closed-form solution to the derivative of the cost function. In this case, we resort to gradient descent which learn the parameters by iteratively updating them until it reaches the solution i.e. the minimum of the cost function. In this problem we are going to explore both of these implementations. \n",
    "\n",
    "Using the code that we are providing in the next few cells, you will:\n",
    "\n",
    "\n",
    "1. Implement linear regression using the ordinary least squares method\n",
    "2. Implement linear regression using gradient descent\n",
    "3. Execute both versions of the linear regression on sklearn's Boston Housing dataset. Plot your results. Which version executes faster? Explain why that is the case."
   ]
  },
  {
   "cell_type": "markdown",
   "metadata": {},
   "source": [
    "#### Answer\n",
    "3. Though time taken for OLS is lesser than Gradient Descent here, but OLS is of complexity O($n^3$) and Gradient descent is of complexity O($n^2$) and as the n increases OLS will become slower"
   ]
  },
  {
   "cell_type": "code",
   "execution_count": 3,
   "metadata": {
    "colab": {},
    "colab_type": "code",
    "id": "-40QUDB_hfZ-"
   },
   "outputs": [],
   "source": [
    "def feature_normalization(X):\n",
    "    '''\n",
    "    In this function we are going to do something similar to what we did in A0, \n",
    "    we are going to normalize all the features. Implement the following steps:\n",
    "\n",
    "    - for each feature, calculate its mean\n",
    "    - substract the mean from their respective feature\n",
    "    - save the above result in the 'mu' variable\n",
    "\n",
    "    - for each feature, calculate its standard deviation\n",
    "    - divide each feature by its standard deviation\n",
    "    - save the above result in the 'sigma' variable\n",
    "\n",
    "    '''\n",
    "    #assuming n to be the number of features or columns\n",
    "    n = X.shape[1]\n",
    "    X_norm = X\n",
    "    mu = np.zeros(n)\n",
    "    sigma = np.zeros(n)\n",
    "    \n",
    "    mu = X- np.mean(X,axis = 0)\n",
    "    sigma = X/np.std(X,axis = 0)\n",
    "    X_norm = (X-np.mean(X,axis = 0))/np.std(X,axis = 0)\n",
    "    return X_norm, mu, sigma"
   ]
  },
  {
   "cell_type": "code",
   "execution_count": 4,
   "metadata": {
    "colab": {},
    "colab_type": "code",
    "id": "Cg-4siXinuPI"
   },
   "outputs": [],
   "source": [
    "def cost_function(X, y, theta):\n",
    "    '''\n",
    "    In this function we are going to... you guessed it...\n",
    "    Implement the cost function!\n",
    " \n",
    "    '''\n",
    "  \n",
    "    m = y.size\n",
    "#     print(np.dot(theta,X.T))\n",
    "    cost = 0\n",
    "    cost = sum((y-theta.dot(X.T))**2)/(2*m)\n",
    "\n",
    "    return cost\n",
    "\n"
   ]
  },
  {
   "cell_type": "code",
   "execution_count": 5,
   "metadata": {
    "colab": {},
    "colab_type": "code",
    "id": "fx-mfDnshhVW"
   },
   "outputs": [],
   "source": [
    "\n",
    "def gradient_descent(X, y, theta, learning_rate, num_iters):\n",
    "    m = y.size\n",
    "    J_history = np.zeros(num_iters)\n",
    "    \n",
    "    for i in range(0, num_iters):\n",
    "        '''\n",
    "        Implement gradient descent for a single gradient step on the parameter \n",
    "        vector theta. Save the result of each iteration on J_history.\n",
    "        '''\n",
    "       \n",
    "        # for j in range(theta.size):\n",
    "        J_history[i] = cost_function(X, y, theta) #store values in J_History and for the presnt theta and then update theta\n",
    "    \n",
    "        theta = theta - learning_rate*(np.dot((np.dot(theta,X.T)-y),X))/m # Theta - (alpha*theatX)\n",
    "        \n",
    "#        theta = newTheta\n",
    "        \n",
    "        \n",
    "#         print(cost_function(X, y, theta))\n",
    "        \n",
    "        \n",
    "\n",
    "    return theta, J_history"
   ]
  },
  {
   "cell_type": "code",
   "execution_count": 6,
   "metadata": {
    "colab": {},
    "colab_type": "code",
    "id": "3e0WkgewhkrY"
   },
   "outputs": [],
   "source": [
    "def linearRegression_ols(X, y):\n",
    "    '''\n",
    "    Implement the closed-form (or ordinary least squares) solution for\n",
    "    linear regression. Save the result in the variable 'theta'.\n",
    "    More information can be found at: \n",
    "      https://en.wikipedia.org/wiki/Ordinary_least_squares\n",
    "    '''\n",
    "    theta = np.zeros((X.shape[1], 1))\n",
    "    theta = (np.linalg.inv(np.dot(X.T,X)).dot(X.T)).dot(y)\n",
    "\n",
    "    return theta"
   ]
  },
  {
   "cell_type": "code",
   "execution_count": 7,
   "metadata": {
    "colab": {},
    "colab_type": "code",
    "id": "eEHDdwBAyPen"
   },
   "outputs": [],
   "source": [
    "# load dataset\n",
    "\n",
    "from sklearn.datasets import load_boston\n",
    "dataset = load_boston()\n",
    "X = dataset.data\n",
    "y = dataset.target\n",
    "m = y.size\n"
   ]
  },
  {
   "cell_type": "code",
   "execution_count": 8,
   "metadata": {
    "colab": {},
    "colab_type": "code",
    "id": "ZKLNvembyR8S"
   },
   "outputs": [
    {
     "name": "stdout",
     "output_type": "stream",
     "text": [
      "Normalizing Features ...\n"
     ]
    }
   ],
   "source": [
    "# Normalize features\n",
    "print('Normalizing Features ...')\n",
    "\n",
    "X, mu, sigma = feature_normalization(X)\n",
    "X = np.c_[np.ones(m), X]  # Add a column of ones to X\n"
   ]
  },
  {
   "cell_type": "code",
   "execution_count": 9,
   "metadata": {
    "colab": {},
    "colab_type": "code",
    "id": "DEIeF7LZyU43"
   },
   "outputs": [
    {
     "name": "stdout",
     "output_type": "stream",
     "text": [
      "Running gradient descent ...\n",
      "time taken for linear regression with gradient descent :  0.12692904472351074\n",
      "Theta computed from gradient descent : \n",
      "[22.53269111 -0.80153942  0.86697613 -0.23056994  0.73597162 -1.70194762\n",
      "  2.83315488 -0.08096679 -2.85876596  1.61270393 -1.01025156 -1.97669241\n",
      "  0.8702363  -3.67513307]\n"
     ]
    },
    {
     "data": {
      "image/png": "[encoded data removed]",
      "text/plain": [
       "<Figure size 432x288 with 1 Axes>"
      ]
     },
     "metadata": {},
     "output_type": "display_data"
    }
   ],
   "source": [
    "# Now we proceed with Gradient Descent\n",
    "\n",
    "print('Running gradient descent ...')\n",
    "\n",
    "# Choose some alpha value\n",
    "alpha = 0.03\n",
    "num_iters = 400\n",
    "\n",
    "# Initialize theta and execute gradient descent\n",
    "\n",
    "theta = np.zeros(X.shape[1])\n",
    "\n",
    "start_time = time.time()\n",
    "theta, J_history = gradient_descent(X, y, theta, alpha, num_iters)\n",
    "print(\"time taken for linear regression with gradient descent : \" , time.time()-start_time)\n",
    "\n",
    "\n",
    "# Plot the convergence graph\n",
    "plt.figure()\n",
    "plt.plot(np.arange(J_history.size), J_history)\n",
    "plt.xlabel('Number of iterations')\n",
    "plt.ylabel('Cost J')\n",
    "\"\"\"\n",
    "please take note that the thetas are in respect to normalised X , to be used with the actual X ,\n",
    "the coefficents are to be de-normalised\n",
    "\"\"\"\n",
    "\n",
    "# Display gradient descent's result\n",
    "print('Theta computed from gradient descent : \\n{}'.format(theta))"
   ]
  },
  {
   "cell_type": "code",
   "execution_count": 10,
   "metadata": {
    "colab": {},
    "colab_type": "code",
    "id": "oxEh8LIdhWQz"
   },
   "outputs": [
    {
     "name": "stdout",
     "output_type": "stream",
     "text": [
      "time taken for linear regression with ols :  0.0019979476928710938\n",
      "Theta computed from OLS linear regression : \n",
      "[ 3.64911033e+01 -1.07170557e-01  4.63952195e-02  2.08602395e-02\n",
      "  2.68856140e+00 -1.77957587e+01  3.80475246e+00  7.51061703e-04\n",
      " -1.47575880e+00  3.05655038e-01 -1.23293463e-02 -9.53463555e-01\n",
      "  9.39251272e-03 -5.25466633e-01]\n"
     ]
    }
   ],
   "source": [
    "# Now we are going to use the ordinary least squares (OLS) linear regression\n",
    "\n",
    "# re-load dataset\n",
    "\n",
    "from sklearn.datasets import load_boston\n",
    "dataset = load_boston()\n",
    "\n",
    "X = dataset.data\n",
    "y = dataset.target\n",
    "# X, mu, sigma = feature_normalization(X)\n",
    "X = np.c_[np.ones(m), X] # Add intercept term to X\n",
    "\n",
    "start_time = time.time()\n",
    "theta = linearRegression_ols(X, y)\n",
    "print(\"time taken for linear regression with ols : \" , time.time()-start_time)\n",
    "# Display normal equation's result\n",
    "print('Theta computed from OLS linear regression : \\n{}'.format(theta))"
   ]
  },
  {
   "cell_type": "markdown",
   "metadata": {
    "colab_type": "text",
    "id": "M6M7dM3JJ4Ns"
   },
   "source": [
    "#### Now lets do gradient descent with L2-regularization (or Ridge Regression). The next 6 cells are a copy of the template that we provided above with a '_regularization' added at the end of the function name. Feel free to reuse the code that you wrote above but be sure to make the appropriate modifications to the necessary functions to add L2-regularization."
   ]
  },
  {
   "cell_type": "code",
   "execution_count": 11,
   "metadata": {
    "colab": {},
    "colab_type": "code",
    "id": "55TAK-OahXIe"
   },
   "outputs": [],
   "source": [
    "def feature_normalization_regularization(X):\n",
    "    '''\n",
    "    In this function we are going to do something similar to what we did in A0, \n",
    "    we are going to normalize all the features. Implement the following steps:\n",
    "    \n",
    "    - for each feature, calculate its mean\n",
    "    - substract the mean from their respective feature\n",
    "    - save the above result in the 'mu' variable\n",
    "    \n",
    "    - for each feature, calculate its standard deviation\n",
    "    - divide each feature by its standard deviation\n",
    "    - save the above result in the 'sigma' variable\n",
    "    \n",
    "    '''\n",
    "    n = X.shape[1]\n",
    "    X_norm = X\n",
    "    mu = np.zeros(n)\n",
    "    sigma = np.zeros(n)\n",
    "    mu = X- np.mean(X,axis = 0)\n",
    "    sigma = X/np.std(X,axis = 0)\n",
    "    X_norm = (X-np.mean(X,axis = 0))/np.std(X,axis = 0)\n",
    "    return X_norm, mu, sigma"
   ]
  },
  {
   "cell_type": "code",
   "execution_count": 12,
   "metadata": {
    "colab": {},
    "colab_type": "code",
    "id": "qwLekxJMKOEi"
   },
   "outputs": [],
   "source": [
    "def cost_function_regularization(X, y, theta):\n",
    "    '''\n",
    "    In this function we are going to... you guessed it...\n",
    "    Implement the cost function!\n",
    " \n",
    "    '''\n",
    "  \n",
    "    m = y.size\n",
    "    cost = 0\n",
    "    global lamda\n",
    "    cost = sum((y-theta.dot(X.T))**2)/(2*m) + lamda*sum(theta[1:]**2)/(2*m)\n",
    "    \n",
    "    \n",
    "\n",
    "    return cost"
   ]
  },
  {
   "cell_type": "code",
   "execution_count": 13,
   "metadata": {
    "colab": {},
    "colab_type": "code",
    "id": "5FIZa_vUKQrO"
   },
   "outputs": [],
   "source": [
    "def gradient_descent_regularization(X, y, theta, learning_rate, num_iters):\n",
    "    m = y.size\n",
    "    J_history = np.zeros(num_iters)\n",
    "    global lamda\n",
    "    \n",
    "    for i in range(0, num_iters):\n",
    "        '''\n",
    "        Implement gradient descent for a single gradient step on the parameter \n",
    "        vector theta. Save the result of each iteration on J_history.\n",
    "        '''\n",
    "        J_history[i] = cost_function_regularization(X, y, theta)\n",
    "        linloss = np.dot(theta,X.T)-y\n",
    "        #penalising only the coefficients and not the theta0 hence adding 0 at the beginning for the theta and taking the rest as is\n",
    "        theta = theta - learning_rate*((np.dot(linloss,X))/m + lamda*np.append(0,theta[1:])/m) # Theta - (alpha*theatX)\n",
    "        \n",
    "\n",
    "    return theta, J_history"
   ]
  },
  {
   "cell_type": "code",
   "execution_count": 14,
   "metadata": {
    "colab": {},
    "colab_type": "code",
    "id": "R500H0_PKT3d"
   },
   "outputs": [],
   "source": [
    "# load dataset\n",
    "\n",
    "from sklearn.datasets import load_boston\n",
    "dataset = load_boston()\n",
    "X = dataset.data\n",
    "y = dataset.target\n",
    "m = y.size"
   ]
  },
  {
   "cell_type": "code",
   "execution_count": 15,
   "metadata": {
    "colab": {},
    "colab_type": "code",
    "id": "9k-9UuXkKWT7"
   },
   "outputs": [
    {
     "name": "stdout",
     "output_type": "stream",
     "text": [
      "Normalizing Features ...\n"
     ]
    }
   ],
   "source": [
    "# Normalize features\n",
    "print('Normalizing Features ...')\n",
    "\n",
    "X, mu, sigma = feature_normalization_regularization(X)\n",
    "X = np.c_[np.ones(m), X]  # Add a column of ones to X"
   ]
  },
  {
   "cell_type": "code",
   "execution_count": 16,
   "metadata": {
    "colab": {},
    "colab_type": "code",
    "id": "E_TgDVLgKZVq"
   },
   "outputs": [
    {
     "name": "stdout",
     "output_type": "stream",
     "text": [
      "Running gradient descent ...\n",
      "Theta computed from gradient descent with regularization: \n",
      "[22.53269111 -0.44379845  0.36993401 -0.4742831   0.44219371 -0.3907131\n",
      "  1.48591788 -0.28297276 -0.19243476 -0.18874531 -0.44166305 -0.88819848\n",
      "  0.45148467 -1.36620495]\n"
     ]
    },
    {
     "data": {
      "image/png": "[encoded data removed]",
      "text/plain": [
       "<Figure size 432x288 with 1 Axes>"
      ]
     },
     "metadata": {},
     "output_type": "display_data"
    }
   ],
   "source": [
    "# Now we proceed with Gradient Descent\n",
    "\n",
    "print('Running gradient descent ...')\n",
    "\n",
    "# Choose some alpha value\n",
    "alpha = 0.03\n",
    "num_iters = 400\n",
    "lamda = 1000 #change lamda here\n",
    "# Initialize theta and execute gradient descent\n",
    "theta = np.zeros(X.shape[1])\n",
    "\n",
    "theta, J_history = gradient_descent_regularization(X, y, theta, alpha, num_iters)\n",
    "\n",
    "# Plot the convergence graph\n",
    "plt.figure()\n",
    "plt.plot(np.arange(J_history.size), J_history)\n",
    "plt.xlabel('Number of iterations')\n",
    "plt.ylabel('Cost J')\n",
    "\n",
    "# Display gradient descent's result\n",
    "\"\"\"\n",
    "Please take note that the thetas are in respect to normalised X , to be used with the actual X ,\n",
    "the coefficents are to be de-normalised\n",
    "\"\"\"\n",
    "\n",
    "print('Theta computed from gradient descent with regularization: \\n{}'.format(theta))"
   ]
  },
  {
   "cell_type": "markdown",
   "metadata": {
    "colab_type": "text",
    "id": "yY9i61hZGjOl"
   },
   "source": [
    "## Question 3: Guess the function (25 points)\n",
    "\n",
    "Consider three datasets provided with this notebook, namely `data1.csv` and `data2.csv`. Each dataset has 1000 samples. Every sample has 5 features $x_1, x_2, \\ldots, x_5$ and a target variable $y$. In each of the datasets, the target variable has been generated from the features of a different unknown function $y$. In general, $$y=f(\\mathbf{x})=\\sum_{j} w_j \\prod_{i=1}^5 x_i^{k_{i;j}}$$ where $x_i$ is the $i^{\\text {th}}$ feature and $j$ denotes a particular term in the polynomial and $k_{i;j}$ is the power of the $i^{\\text{th}}$ feature in the $j^{\\text{th}}$ term. It can be any whole number from $0$ to $3$.\n",
    "\n",
    "Thus $y_1=f_1(\\mathbf{x})$;  $y_2=f_2(\\mathbf{x})$ and $y_3=f_3(\\mathbf{x})$.\n",
    "\n",
    "1. Find both the unknown target functions using the given datasets. Use the dedicated cells defined below to write the corresponding methodology and code.\n",
    "2. Define all your variables such that when we run the corresponding code cell, it should nicely print the correct output which supports your methodology and also prints the right answer.\n",
    "\n",
    "#### Hints:\n",
    "1. Remember that $y=f(x)$ is a POLYNOMIAL.\n",
    "2. The degree of polynomial used in `data1.csv` is 1 and that used in `data2.csv` is $\\leq3$.\n",
    "3. Start with `data1.csv`. It is easy. And then build upon the intution which you get to solve `data2.csv`\n",
    "4. Rounding off will make things easy and we encourage it. For instance, you can write 2.98 as 3!"
   ]
  },
  {
   "cell_type": "markdown",
   "metadata": {
    "colab_type": "text",
    "id": "-s5oaMtDqAAk"
   },
   "source": [
    "### Methodology and answer for function 1"
   ]
  },
  {
   "cell_type": "code",
   "execution_count": 17,
   "metadata": {
    "colab": {},
    "colab_type": "code",
    "id": "DpQ-_-25qDbq"
   },
   "outputs": [
    {
     "name": "stdout",
     "output_type": "stream",
     "text": [
      "The theta values computeed from gradient descent  : \n",
      "[ 1.18960502e+01  1.95992261e+00 -3.94638673e+00 -5.70742007e-05\n",
      "  4.04484394e+00 -1.00720015e-04]\n"
     ]
    },
    {
     "data": {
      "image/png": "[encoded data removed]",
      "text/plain": [
       "<Figure size 432x288 with 1 Axes>"
      ]
     },
     "metadata": {},
     "output_type": "display_data"
    }
   ],
   "source": [
    "X = np.loadtxt(\"data1.csv\",delimiter = \",\")\n",
    "Y = np.array(X[:,-1])\n",
    "X = X[:,:-1]\n",
    "X_Norm,mu,sigma = feature_normalization_regularization(X)\n",
    "X_Norm = np.c_[np.ones(X_Norm.shape[0]), X_Norm]\n",
    "\n",
    "\n",
    "theta = np.zeros(X_Norm.shape[1])\n",
    "alpha = 0.03\n",
    "num_iters = 400\n",
    "\n",
    "\n",
    "theta,J_history = gradient_descent(X_Norm, Y, theta, alpha, num_iters)\n",
    "\n",
    "plt.figure()\n",
    "plt.plot(np.arange(J_history.size), J_history)\n",
    "plt.xlabel('Number of iterations')\n",
    "plt.ylabel('Cost J')\n",
    "# print(\"The theta values are\", theta)\n",
    "print('The theta values computeed from gradient descent  : \\n{}'.format(theta))"
   ]
  },
  {
   "cell_type": "markdown",
   "metadata": {},
   "source": [
    "###### Answer for the equation is : \n",
    "If $x_i$ is the $i^{th}$ variable then the equation,\n",
    "$$y = f_1(x) = 1.19 + 1.96x_1 - 3.95x_2 - 0.00006x_3 + 4.05x_4 - 0.00001x_5 $$\n",
    "\n",
    "##### Methodology \n",
    "Since the hint is that the polynomial is of degree 1 , the equation is a linear equation hence and through gradient descent for linear regression , we arrive at the above coefficients"
   ]
  },
  {
   "cell_type": "markdown",
   "metadata": {
    "colab_type": "text",
    "id": "lyF_2EcAqFHJ"
   },
   "source": [
    "### Methodology and answer for function 2"
   ]
  },
  {
   "cell_type": "markdown",
   "metadata": {},
   "source": [
    "#### Methodology:\n",
    "Since the equation could have any possibilities of the power from (0,3) in $x_1,x_2,x_3,x_4,x_5$ there are 1024 combinations as such (i.e 4 possibilities for each of $5 x's$ hence $4^5$ combinations).Now generating all of these possibilities the task is to find the coefficients to all of the combinations, since its linear in $\\theta\\ \\text {or} w$ we could use linear regression with regularisation and a certain lambda to penalise higher order coefficients , I have assumed a lambda of 0.1 and negleted terms whose coeffecients or $\\theta$ magnitude (i.e absolute value) is less than 0.1. Hence the below is the equation and generated as below"
   ]
  },
  {
   "cell_type": "code",
   "execution_count": 19,
   "metadata": {
    "colab": {},
    "colab_type": "code",
    "id": "zE0UxTW7qH2p",
    "scrolled": true
   },
   "outputs": [
    {
     "name": "stdout",
     "output_type": "stream",
     "text": [
      "Note that the first column in the displayed array denotes the coefficient ,and 2nd column denotes the power of the x1 and so on till x5\n",
      "[[ 3.88574095e+01  0.00000000e+00  0.00000000e+00  0.00000000e+00\n",
      "   0.00000000e+00  0.00000000e+00]\n",
      " [-6.79138461e-02  0.00000000e+00  0.00000000e+00  0.00000000e+00\n",
      "   0.00000000e+00  1.00000000e+00]\n",
      " [ 2.40431803e-01  0.00000000e+00  0.00000000e+00  0.00000000e+00\n",
      "   0.00000000e+00  2.00000000e+00]\n",
      " ...\n",
      " [-4.58263300e-02  3.00000000e+00  3.00000000e+00  3.00000000e+00\n",
      "   3.00000000e+00  1.00000000e+00]\n",
      " [ 2.07393774e-02  3.00000000e+00  3.00000000e+00  3.00000000e+00\n",
      "   3.00000000e+00  2.00000000e+00]\n",
      " [-2.72806883e-02  3.00000000e+00  3.00000000e+00  3.00000000e+00\n",
      "   3.00000000e+00  3.00000000e+00]]\n"
     ]
    },
    {
     "data": {
      "text/markdown": [
       "#### The equation is as follows with lamda, 0and neglecting coefficients with magnitude less than  0.1 ,change lambda and threshold above accordingly to change the equation with 269 terms $38.9 + 0.2x_5^2 + 1.2x_4^1 + -0.7x_4^1x_5^1 + -0.3x_4^1x_5^3 + -3.4x_4^2 + -0.4x_4^2x_5^2 + 2.4x_4^3 + 0.4x_4^3x_5^2 + 4.4x_3^1 + -0.4x_3^1x_5^2 + 0.4x_3^1x_5^3 + -0.1x_3^1x_4^1x_5^2 + -0.1x_3^1x_4^2 + -0.5x_3^1x_4^2x_5^2 + 0.1x_3^1x_4^2x_5^3 + 0.2x_3^1x_4^3x_5^1 + 0.5x_3^2x_5^1 + 0.1x_3^2x_5^2 + -0.2x_3^2x_5^3 + -0.6x_3^2x_4^1 + -0.2x_3^2x_4^1x_5^2 + -0.2x_3^2x_4^1x_5^3 + -0.1x_3^2x_4^2 + -0.1x_3^2x_4^2x_5^1 + -0.2x_3^2x_4^2x_5^2 + 0.4x_3^2x_4^3 + 0.3x_3^2x_4^3x_5^1 + 0.3x_3^2x_4^3x_5^2 + 10.3x_3^3 + -1.0x_3^3x_5^1 + 2.0x_3^3x_5^2 + 0.3x_3^3x_5^3 + 0.5x_3^3x_4^1 + -0.2x_3^3x_4^1x_5^1 + 0.3x_3^3x_4^1x_5^2 + 2.2x_3^3x_4^2 + -0.2x_3^3x_4^2x_5^1 + 0.2x_3^3x_4^2x_5^2 + -0.4x_3^3x_4^3 + 0.2x_3^3x_4^3x_5^1 + 0.1x_2^1x_4^1x_5^3 + -0.2x_2^1x_4^2 + 0.4x_2^1x_4^2x_5^1 + 0.2x_2^1x_4^3 + -0.2x_2^1x_4^3x_5^1 + 1.1x_2^1x_3^1 + -0.2x_2^1x_3^1x_5^1 + 0.4x_2^1x_3^1x_5^2 + 0.5x_2^1x_3^1x_4^2 + -0.3x_2^1x_3^1x_4^3 + 0.4x_2^1x_3^2 + -0.9x_2^1x_3^2x_5^1 + -0.2x_2^1x_3^2x_5^2 + 0.5x_2^1x_3^2x_4^1 + -0.3x_2^1x_3^2x_4^2 + 0.4x_2^1x_3^2x_4^2x_5^1 + -0.3x_2^1x_3^3 + 0.2x_2^1x_3^3x_5^1 + 0.3x_2^1x_3^3x_5^2 + 0.5x_2^1x_3^3x_4^1 + 0.2x_2^1x_3^3x_4^1x_5^1 + -0.2x_2^1x_3^3x_4^1x_5^2 + 0.2x_2^1x_3^3x_4^2 + 0.2x_2^1x_3^3x_4^2x_5^1 + -0.2x_2^1x_3^3x_4^3x_5^1 + -0.1x_2^1x_3^3x_4^3x_5^2 + 0.3x_2^2 + -0.1x_2^2x_4^1 + -0.2x_2^2x_4^1x_5^1 + -0.2x_2^2x_4^1x_5^2 + -0.1x_2^2x_4^1x_5^3 + -0.8x_2^2x_4^2 + 0.7x_2^2x_4^3 + 0.1x_2^2x_4^3x_5^1 + 0.1x_2^2x_4^3x_5^2 + -0.1x_2^2x_3^1x_5^1 + -0.5x_2^2x_3^1x_5^2 + 0.1x_2^2x_3^1x_4^1x_5^1 + -0.8x_2^2x_3^1x_4^2 + -0.3x_2^2x_3^1x_4^2x_5^2 + -0.1x_2^2x_3^2x_5^1 + -0.3x_2^2x_3^2x_5^3 + -0.2x_2^2x_3^2x_4^1x_5^1 + -0.2x_2^2x_3^2x_4^1x_5^3 + -0.3x_2^2x_3^2x_4^2 + -0.1x_2^2x_3^2x_4^2x_5^1 + 0.3x_2^2x_3^2x_4^3 + 2.1x_2^2x_3^3 + -0.2x_2^2x_3^3x_5^1 + 0.1x_2^2x_3^3x_5^2 + 0.3x_2^2x_3^3x_5^3 + 0.3x_2^2x_3^3x_4^1x_5^1 + 0.2x_2^2x_3^3x_4^1x_5^3 + 0.2x_2^2x_3^3x_4^2 + 0.1x_2^2x_3^3x_4^3x_5^1 + 0.2x_2^3x_5^2 + 0.1x_2^3x_5^3 + -0.2x_2^3x_4^1 + 0.2x_2^3x_4^1x_5^1 + 0.1x_2^3x_4^1x_5^3 + -0.1x_2^3x_4^2x_5^3 + -0.1x_2^3x_4^3 + -0.1x_2^3x_4^3x_5^2 + 0.4x_2^3x_3^1 + -0.2x_2^3x_3^1x_4^1 + 0.1x_2^3x_3^1x_4^1x_5^2 + -0.1x_2^3x_3^1x_4^2 + -0.1x_2^3x_3^1x_4^2x_5^2 + -0.1x_2^3x_3^1x_4^3 + 0.1x_2^3x_3^1x_4^3x_5^2 + -0.1x_2^3x_3^2 + 0.1x_2^3x_3^2x_5^3 + 0.2x_2^3x_3^2x_4^1x_5^1 + 0.1x_2^3x_3^2x_4^1x_5^3 + -0.2x_2^3x_3^2x_4^2 + -0.1x_2^3x_3^2x_4^3 + 0.2x_2^3x_3^3 + 0.1x_2^3x_3^3x_5^2 + -0.2x_2^3x_3^3x_5^3 + -0.1x_2^3x_3^3x_4^3 + 0.1x_1^1x_4^1 + 0.1x_1^1x_4^1x_5^2 + 0.2x_1^1x_4^2x_5^1 + -0.3x_1^1x_3^1 + -0.1x_1^1x_3^1x_5^1 + -0.2x_1^1x_3^1x_5^2 + 0.2x_1^1x_3^1x_4^1x_5^1 + 0.2x_1^1x_3^1x_4^1x_5^2 + 0.3x_1^1x_3^1x_4^2 + 0.2x_1^1x_3^1x_4^2x_5^1 + -0.1x_1^1x_3^1x_4^3 + -0.9x_1^1x_3^2 + -0.4x_1^1x_3^2x_4^1 + 0.3x_1^1x_3^2x_4^1x_5^1 + 0.3x_1^1x_3^2x_4^2 + -0.2x_1^1x_3^2x_4^3 + 0.5x_1^1x_3^3 + -0.9x_1^1x_3^3x_5^1 + 0.3x_1^1x_3^3x_5^2 + -0.4x_1^1x_3^3x_4^1 + 0.7x_1^1x_3^3x_4^1x_5^2 + 0.4x_1^1x_3^3x_4^2 + 0.2x_1^1x_3^3x_4^2x_5^1 + 0.1x_1^1x_3^3x_4^2x_5^2 + -0.1x_1^1x_3^3x_4^3 + 0.1x_1^1x_3^3x_4^3x_5^1 + 0.1x_1^1x_3^3x_4^3x_5^2 + -0.1x_1^1x_2^1 + -0.2x_1^1x_2^1x_4^1 + 0.2x_1^1x_2^1x_4^2 + 0.1x_1^1x_2^1x_3^1 + -0.1x_1^1x_2^1x_3^1x_5^3 + -0.1x_1^1x_2^1x_3^1x_4^1x_5^1 + -0.1x_1^1x_2^1x_3^1x_4^1x_5^2 + 0.2x_1^1x_2^1x_3^1x_4^2 + -0.2x_1^1x_2^1x_3^1x_4^3 + -0.3x_1^1x_2^1x_3^2x_5^1 + -0.5x_1^1x_2^1x_3^2x_4^1 + 0.1x_1^1x_2^1x_3^2x_4^2x_5^2 + -1.2x_1^1x_2^1x_3^3 + 0.3x_1^1x_2^1x_3^3x_5^1 + -0.1x_1^1x_2^1x_3^3x_5^2 + -0.1x_1^1x_2^1x_3^3x_5^3 + -0.1x_1^1x_2^1x_3^3x_4^1 + -0.2x_1^1x_2^1x_3^3x_4^1x_5^1 + -0.1x_1^1x_2^1x_3^3x_4^1x_5^2 + -0.3x_1^1x_2^1x_3^3x_4^2 + -0.1x_1^1x_2^1x_3^3x_4^3x_5^1 + 0.2x_1^1x_2^2 + 0.3x_1^1x_2^2x_4^2 + -0.1x_1^1x_2^2x_3^1 + 0.2x_1^1x_2^2x_3^1x_5^3 + 0.1x_1^1x_2^2x_3^1x_4^1 + -0.1x_1^1x_2^2x_3^2 + -0.2x_1^1x_2^2x_3^2x_5^1 + 0.1x_1^1x_2^2x_3^2x_5^2 + -0.2x_1^1x_2^2x_3^2x_5^3 + -0.1x_1^1x_2^2x_3^2x_4^2x_5^1 + 0.3x_1^1x_2^2x_3^3x_5^3 + -0.2x_1^1x_2^2x_3^3x_4^1 + 0.1x_1^1x_2^3x_4^2 + 0.3x_1^1x_2^3x_3^1 + 0.2x_1^1x_2^3x_3^1x_4^1 + 0.2x_1^1x_2^3x_3^1x_4^2 + 0.1x_1^1x_2^3x_3^2 + 0.2x_1^1x_2^3x_3^2x_4^2 + -0.1x_1^1x_2^3x_3^3x_5^3 + 0.2x_1^1x_2^3x_3^3x_4^1 + -0.1x_1^1x_2^3x_3^3x_4^1x_5^1 + 0.1x_1^1x_2^3x_3^3x_4^2 + 1.2x_1^2 + -0.2x_1^2x_5^1 + 0.2x_1^2x_5^2 + -0.2x_1^2x_5^3 + -0.3x_1^2x_4^1x_5^1 + -0.4x_1^2x_4^2 + -0.1x_1^2x_4^2x_5^2 + 0.5x_1^2x_4^3 + -0.4x_1^2x_3^1 + 0.3x_1^2x_3^1x_5^1 + -0.6x_1^2x_3^1x_5^2 + 0.1x_1^2x_3^1x_5^3 + -0.6x_1^2x_3^1x_4^2 + -0.2x_1^2x_3^1x_4^2x_5^2 + 0.6x_1^2x_3^2x_5^1 + -0.2x_1^2x_3^2x_4^1 + 0.1x_1^2x_3^2x_4^2 + 0.2x_1^2x_3^2x_4^2x_5^1 + 0.1x_1^2x_3^2x_4^3 + 0.1x_1^2x_3^2x_4^3x_5^2 + 3.1x_1^2x_3^3 + -0.2x_1^2x_3^3x_5^1 + 0.4x_1^2x_3^3x_5^2 + 0.1x_1^2x_3^3x_5^3 + 0.7x_1^2x_3^3x_4^1 + -0.2x_1^2x_3^3x_4^1x_5^1 + 0.2x_1^2x_3^3x_4^1x_5^2 + 0.6x_1^2x_3^3x_4^2 + 0.1x_1^2x_3^3x_4^2x_5^1 + 0.1x_1^2x_3^3x_4^2x_5^2 + -0.1x_1^2x_2^1x_5^1 + 0.1x_1^2x_2^1x_4^2x_5^1 + -0.2x_1^2x_2^1x_4^3x_5^1 + 0.2x_1^2x_2^1x_3^1 + 0.2x_1^2x_2^1x_3^2 + -0.1x_1^2x_2^1x_3^2x_5^1 + 0.1x_1^2x_2^1x_3^2x_4^1 + 0.2x_1^2x_2^1x_3^2x_4^2x_5^1 + -0.2x_1^2x_2^1x_3^3 + 0.2x_1^2x_2^1x_3^3x_5^1 + 0.2x_1^2x_2^1x_3^3x_4^1 + 0.2x_1^2x_2^1x_3^3x_4^1x_5^1 + 0.1x_1^2x_2^1x_3^3x_4^2 + 0.4x_1^2x_2^2 + -0.1x_1^2x_2^2x_4^1 + -0.6x_1^2x_2^2x_3^1 + -0.3x_1^2x_2^2x_3^1x_5^2 + -0.1x_1^2x_2^2x_3^1x_4^1 + -0.2x_1^2x_2^2x_3^1x_4^2 + -0.1x_1^2x_2^2x_3^1x_4^3 + 0.1x_1^2x_2^2x_3^2 + -0.1x_1^2x_2^2x_3^2x_4^1x_5^3 + 0.3x_1^2x_2^2x_3^3 + 0.1x_1^2x_2^2x_3^3x_5^3 + 0.1x_1^2x_2^2x_3^3x_4^2x_5^1 + -0.2x_1^2x_2^2x_3^3x_4^3 + 0.1x_1^2x_2^3x_3^2x_5^3 + -0.1x_1^2x_2^3x_3^2x_4^2 + -0.1x_1^2x_2^3x_3^3x_4^2 + -0.2x_1^3x_4^2 + -0.1x_1^3x_4^2x_5^2 + -0.2x_1^3x_3^1x_4^1 + -0.1x_1^3x_3^2x_5^1 + -0.4x_1^3x_3^3x_4^1 + 0.1x_1^3x_3^3x_4^1x_5^2 + -0.2x_1^3x_2^1 + 0.3x_1^3x_2^1x_3^1 + 0.2x_1^3x_2^1x_3^1x_5^1 + 0.1x_1^3x_2^1x_3^1x_5^2 + 0.2x_1^3x_2^1x_3^1x_4^1 + -0.3x_1^3x_2^1x_3^2 + -0.2x_1^3x_2^1x_3^2x_4^1 + 0.1x_1^3x_2^1x_3^3x_5^1 + 0.1x_1^3x_2^2 + -0.1x_1^3x_2^2x_3^1 + -0.1x_1^3x_2^2x_3^3 + 0.1x_1^3x_2^3x_3^1 + 0.1x_1^3x_2^3x_3^3x_4^1 = 0 $"
      ],
      "text/plain": [
       "<IPython.core.display.Markdown object>"
      ]
     },
     "metadata": {},
     "output_type": "display_data"
    },
    {
     "data": {
      "image/png": "[encoded data removed]",
      "text/plain": [
       "<Figure size 432x288 with 1 Axes>"
      ]
     },
     "metadata": {},
     "output_type": "display_data"
    }
   ],
   "source": [
    "## Code for function 2\n",
    "## Code generatnig combinations with my own loops\n",
    "maxPower = 3\n",
    "X = np.loadtxt(\"data2.csv\",delimiter = \",\")\n",
    "Y = X[:,-1]\n",
    "X = X[:,:-1]\n",
    "origNumCol = X.shape[1]\n",
    "\"\"\"\n",
    "change the threshold and lamda accordingly\n",
    "\"\"\"\n",
    "threshHold = 0.1 \n",
    "lamda = 0\n",
    "\n",
    "\n",
    "\n",
    "#generating columns with different powers\n",
    "for column in range(origNumCol):\n",
    "    for i in range(maxPower+1):\n",
    "        X = np.column_stack((X,X[:,column]**i))\n",
    "   \n",
    "# print(X[:,2])\n",
    "#first five are original and then x^0 , x^1,x^2,x^3\n",
    "XforFit = X[:,5:]\n",
    "# print(XforFit.shape)\n",
    "AllX = np.copy(XforFit)\n",
    "\n",
    "\n",
    "\n",
    "## generating all combos of powers \n",
    "powers = np.zeros(5)\n",
    "for i in range(4):\n",
    "    for j in range(4,8):\n",
    "        for k in range(8,12):\n",
    "            for l in range(12,16):\n",
    "                for m in range(16,20):\n",
    "                    powers = np.row_stack((powers,np.array([i,j-4,k-8,l-12,m-16])))\n",
    "                    AllX = np.column_stack((AllX,AllX[:,i]*AllX[:,j]*AllX[:,k]*AllX[:,l]*AllX[:,m]))\n",
    "               \n",
    "    \n",
    "AllX = AllX[:,21:]\n",
    "powers = powers[1:,:]\n",
    "AllXNorm, mu, sigma = feature_normalization_regularization(AllX)\n",
    "AllXNorm = np.c_[np.ones(AllXNorm.shape[0]), AllXNorm]\n",
    "\n",
    "\n",
    "# print(type(AllXNorm))\n",
    "theta = np.zeros(AllXNorm.shape[1])\n",
    "# print(theta)\n",
    "# print(AllXNorm)\n",
    "# print(Y.size)\n",
    "\n",
    "theta, J_history = gradient_descent_regularization(AllXNorm,Y,theta,0.01,400)\n",
    "\n",
    "plt.figure()\n",
    "plt.plot(np.arange(J_history.size), J_history)\n",
    "plt.xlabel('Number of iterations')\n",
    "plt.ylabel('Cost J')\n",
    "thetaAndPowers = np.column_stack((theta,powers))\n",
    "# len(theta[abs(theta)> 0.1])\n",
    "# print(theta.shape)\n",
    "# print(thetaAndPowers)\n",
    "print(\"Note that the first column in the displayed array denotes the coefficient ,and 2nd column denotes the power of the x1 and so on till x5\")\n",
    "AllThetas = np.copy(thetaAndPowers)\n",
    "print(AllThetas)\n",
    "thetaAndPowers = thetaAndPowers[abs(thetaAndPowers[:,0])>threshHold,:]\n",
    "\n",
    "\"\"\"\n",
    "note that the first column in the displayed array denotes the coefficient , \n",
    "and 2nd column denotes the power of the x1 and so on till x5\n",
    "\"\"\"\n",
    "\n",
    "\n",
    "##code for generating Latek equations for the required coeffecitins\n",
    "MarkDownstring = \"\"\n",
    "x = ['','x_1^','x_2^','x_3^','x_4^','x_5^']\n",
    "for i in range(thetaAndPowers.shape[0]):\n",
    "    MarkDownstring  = MarkDownstring + str(round(thetaAndPowers[i,0],1))\n",
    "    for j in range(1,thetaAndPowers.shape[1]):\n",
    "        \n",
    "        if thetaAndPowers[i,j] != 0:\n",
    "            MarkDownstring = MarkDownstring + x[j] + str(int(round(thetaAndPowers[i,j],1)))\n",
    "    MarkDownstring =  MarkDownstring + ' + '\n",
    "# print('$'+MarkDownstring+'$')\n",
    "\n",
    "from IPython.display import display, Markdown, Latex\n",
    "display(Markdown(\"#### The equation is as follows with lamda, \" + str(lamda)+  \"and neglecting coefficients with magnitude less than  \"\n",
    "                + str(threshHold) + \" ,change lambda and threshold above accordingly to change the equation with \" + \n",
    "                 str(thetaAndPowers.shape[0]) +\" terms \"+'$'+MarkDownstring[:-2]+ \"= 0 \" +'$'))\n",
    "\n"
   ]
  },
  {
   "cell_type": "code",
   "execution_count": null,
   "metadata": {},
   "outputs": [],
   "source": []
  }
 ],
 "metadata": {
  "colab": {
   "collapsed_sections": [],
   "name": "P556_Assignment1v2.ipynb",
   "provenance": [],
   "version": "0.3.2"
  },
  "kernelspec": {
   "display_name": "Python 3",
   "language": "python",
   "name": "python3"
  },
  "language_info": {
   "codemirror_mode": {
    "name": "ipython",
    "version": 3
   },
   "file_extension": ".py",
   "mimetype": "text/x-python",
   "name": "python",
   "nbconvert_exporter": "python",
   "pygments_lexer": "ipython3",
   "version": "3.6.5"
  }
 },
 "nbformat": 4,
 "nbformat_minor": 1
}
